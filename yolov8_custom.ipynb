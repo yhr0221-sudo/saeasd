{
 "cells": [
  {
   "cell_type": "code",
   "execution_count": null,
   "id": "f1902a15-4d52-493e-8177-bb316c1f455d",
   "metadata": {},
   "outputs": [],
   "source": [
    "!pip install ultralytics \n",
    "# yolo 로드가 안될 때"
   ]
  },
  {
   "cell_type": "code",
   "execution_count": 12,
   "id": "2230f2db-0e3f-4a91-8f40-5b0381b56500",
   "metadata": {},
   "outputs": [
    {
     "name": "stdout",
     "output_type": "stream",
     "text": [
      "\n",
      "0: 640x480 1 cat, 86.8ms\n",
      "Speed: 1.6ms preprocess, 86.8ms inference, 0.7ms postprocess per image at shape (1, 3, 640, 480)\n"
     ]
    },
    {
     "data": {
      "text/plain": [
       "-1"
      ]
     },
     "execution_count": 12,
     "metadata": {},
     "output_type": "execute_result"
    }
   ],
   "source": [
    "# 간단한 강아지 사진을 YOLOv8 우리 학습 모델로 돌려보자\n",
    "import cv2\n",
    "from ultralytics import YOLO\n",
    "\n",
    "frame = cv2.imread(\"cat.jpg\")\n",
    "# YOLO(욜로8 모델) \n",
    "# 모델이 없다면 기본모델 yolov8s.pt 사용\n",
    "model = YOLO(\"best_8_5.pt\") # yolov8_5 에포크5\n",
    "results = model(frame)\n",
    "annotated_frame = results[0].plot() # 선으로 박싱 \n",
    "cv2.imshow(\"obj\",annotated_frame)\n",
    "cv2.waitKey(0)\n",
    "\n",
    "cv2.destroyAllWindows()\n",
    "cv2.waitKey(1)"
   ]
  },
  {
   "cell_type": "code",
   "execution_count": 13,
   "id": "dcaccaad-d8fe-4fcf-9181-ebfed13e08e8",
   "metadata": {},
   "outputs": [
    {
     "data": {
      "text/plain": [
       "-1"
      ]
     },
     "execution_count": 13,
     "metadata": {},
     "output_type": "execute_result"
    }
   ],
   "source": [
    "# 실시간으로 \n",
    "import cv2\n",
    "from ultralytics import YOLO\n",
    "model = YOLO(\"best_8_5.pt\")\n",
    "\n",
    "cap = cv2.VideoCapture(0)\n",
    "if not cap.isOpened():\n",
    "    print(\"웹 캠을 열 수 없습니다.\")\n",
    "    exit()\n",
    "while True:\n",
    "    ret, frame = cap.read()\n",
    "    if not ret:\n",
    "        print(\"프레임을 읽을 수 없습니다.\")\n",
    "        break\n",
    "    results = model(frame,verbose=False) # 객체 하나 감지할 때 마다 프린트 되는 것이 보기 불편하기 때문에 \n",
    "    annotated_frame = results[0].plot()\n",
    "    cv2.imshow(\"obj\",annotated_frame)\n",
    "    if cv2.waitKey(1) &0xFF == ord(\"q\"):\n",
    "        break\n",
    "cap.release()\n",
    "cv2.destroyAllWindows()\n",
    "cv2.waitKey(1)\n"
   ]
  },
  {
   "cell_type": "code",
   "execution_count": null,
   "id": "aa369036-fb1a-410f-a47d-94dda654f141",
   "metadata": {},
   "outputs": [],
   "source": []
  },
  {
   "cell_type": "code",
   "execution_count": null,
   "id": "dcce87c2-e4d1-4c16-a760-30d3b103dfbb",
   "metadata": {},
   "outputs": [],
   "source": []
  },
  {
   "cell_type": "code",
   "execution_count": null,
   "id": "6d40aab5-1c2f-45c5-a92e-6b9b3e88d90e",
   "metadata": {},
   "outputs": [],
   "source": []
  },
  {
   "cell_type": "code",
   "execution_count": null,
   "id": "3aa7c2ff-b44d-4bb1-95e5-2f7dd7a206a1",
   "metadata": {},
   "outputs": [],
   "source": []
  },
  {
   "cell_type": "code",
   "execution_count": null,
   "id": "0d47dad2-fcae-4f59-9410-ad11e6512ef9",
   "metadata": {},
   "outputs": [],
   "source": []
  },
  {
   "cell_type": "code",
   "execution_count": null,
   "id": "e2f037ad-3b24-46fa-92fb-1e7cd8512a3b",
   "metadata": {},
   "outputs": [],
   "source": []
  },
  {
   "cell_type": "code",
   "execution_count": null,
   "id": "3b40fb07-88ee-456b-a5b9-54f4443104ce",
   "metadata": {},
   "outputs": [],
   "source": []
  },
  {
   "cell_type": "code",
   "execution_count": null,
   "id": "b64c625d-8f4a-4ef1-8a77-ffaf06a2604c",
   "metadata": {},
   "outputs": [],
   "source": []
  },
  {
   "cell_type": "code",
   "execution_count": null,
   "id": "57871ace-010e-4e3c-a469-1a7eb5c8cb18",
   "metadata": {},
   "outputs": [],
   "source": []
  }
 ],
 "metadata": {
  "kernelspec": {
   "display_name": "Python 3 (ipykernel)",
   "language": "python",
   "name": "python3"
  },
  "language_info": {
   "codemirror_mode": {
    "name": "ipython",
    "version": 3
   },
   "file_extension": ".py",
   "mimetype": "text/x-python",
   "name": "python",
   "nbconvert_exporter": "python",
   "pygments_lexer": "ipython3",
   "version": "3.9.23"
  }
 },
 "nbformat": 4,
 "nbformat_minor": 5
}
