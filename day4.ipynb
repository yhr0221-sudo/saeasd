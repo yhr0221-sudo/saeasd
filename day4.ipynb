{
 "cells": [
  {
   "cell_type": "code",
   "execution_count": null,
   "id": "beb26449-6a23-40a7-8f5d-d04f099101bc",
   "metadata": {},
   "outputs": [],
   "source": [
    "# 함수 \n",
    "# 반복되는 기능\n",
    "# 완전수: 자기자신을 제외한 약수의 합이 자신이 되는 수"
   ]
  },
  {
   "cell_type": "code",
   "execution_count": null,
   "id": "f71d402e-89f8-4bb9-9520-23bc1afd7c52",
   "metadata": {},
   "outputs": [],
   "source": [
    "# 1. is_divisor(num1,num2)\n",
    "# 만약, num2가 num1의 약수라면 True\n",
    "# 약수가 아니라면, False를 반환하는 함수"
   ]
  },
  {
   "cell_type": "code",
   "execution_count": 32,
   "id": "e24d0da1-95a2-41c7-9dcc-07a2f0346329",
   "metadata": {},
   "outputs": [
    {
     "name": "stdout",
     "output_type": "stream",
     "text": [
      "True\n",
      "False\n"
     ]
    },
    {
     "data": {
      "text/plain": [
       "<function __main__.is_divisor(num1: int, num2: int) -> bool>"
      ]
     },
     "execution_count": 32,
     "metadata": {},
     "output_type": "execute_result"
    }
   ],
   "source": [
    "# 함수 이름에 is-> 반환값이 논리형\n",
    "# 변수 이름에 is -> 논리형 데이터\n",
    "# 기본 룰임\n",
    "def is_divisor(num1:int,num2:int) -> bool: #안써도 되지만 제3자가 읽고 이해하기 쉬움\n",
    "    \"\"\"num2가 num1의 약수인지 판별\"\"\" #docstring(Shift + Tab)\n",
    "    return num1%num2==0 # 조건식 >> 논리형으로 받음\n",
    "        \n",
    "print(is_divisor(10,2)) #True\n",
    "print(is_divisor(10,3)) #False\n",
    "is_divisor"
   ]
  },
  {
   "cell_type": "code",
   "execution_count": 301,
   "id": "f64005d5-68f9-4218-8bc6-cb2cc1325e9f",
   "metadata": {},
   "outputs": [
    {
     "name": "stdout",
     "output_type": "stream",
     "text": [
      "10의 약수 : 1 2 5 10 \n",
      "12의 약수 : 1 2 3 4 6 12 \n"
     ]
    }
   ],
   "source": [
    "# 2. 약수를 전부 출력\n",
    "#print_divisors(num)\n",
    "# 만약,num 이 10 이라면 >>10의 약수 1 2 5 10\n",
    "def print_divisors(num : int):\n",
    "    # num이 10이라면???\n",
    "    print(f\"{num}의 약수 : \", end=\"\")\n",
    "\n",
    "    for i in range(1, num + 1):\n",
    "        if num % i == 0:\n",
    "            print(i, end=\" \")\n",
    "    print()\n",
    "print_divisors(10)\n",
    "print_divisors(12)"
   ]
  },
  {
   "cell_type": "code",
   "execution_count": 260,
   "id": "d2e3bd98-d04f-4286-bf39-00a9a439540b",
   "metadata": {},
   "outputs": [
    {
     "name": "stdout",
     "output_type": "stream",
     "text": [
      "18\n",
      "28\n"
     ]
    }
   ],
   "source": [
    "# 3. 약수의 총합!!\n",
    "# get_sum_of_divisors(num)\n",
    "\n",
    "def get_sum_of_divisors(num):\n",
    "    result = 0\n",
    "    for i in range(1,num+1):\n",
    "        if is_divisor(num,i): # num%i ==0: 와 같음\n",
    "            result += i\n",
    "    return result\n",
    "    print()\n",
    "    \n",
    "print(get_sum_of_divisors(10)) # 18 출력!!\n",
    "print(get_sum_of_divisors(12)) # 18 출력!!"
   ]
  },
  {
   "cell_type": "code",
   "execution_count": 270,
   "id": "2a3c912e-7d72-4e10-acd4-91884d11d88c",
   "metadata": {},
   "outputs": [
    {
     "name": "stdout",
     "output_type": "stream",
     "text": [
      "False\n",
      "False\n",
      "True\n"
     ]
    }
   ],
   "source": [
    "# 4. 완전수를 판별하는 함수\n",
    "# is_perfect_number(num)\n",
    "# 만약, num이 완전수라면 -> True\n",
    "# 완전수가 아니라면 -> False\n",
    "\n",
    "# 완전수(perfect number)란?\n",
    "# 자기 자신을 제외한 양의 약수의 합이 \n",
    "# 다시 자기 자신이 되는 수!!!\n",
    "# 10 : 1 + 2 + 5 = 8이므로 (X)\n",
    "# 12 : 1 + 2 + 3 + 4 + 6 = 16 (X)\n",
    "# 28 : 1 + 2 + 4 + 7 + 14 = 28 (O)\n",
    "\n",
    "# 1번째 완전수 6: (1+2+3)\n",
    "# 2번째 완전수 28:(1+2+4+7+14)\n",
    "\n",
    "# def is_perfect_number(num):\n",
    "#     result=0\n",
    "#     for i in range(1,num):\n",
    "#         if get_sum_of_divisors(num):\n",
    "#             print(result)\n",
    "#             if result//2 == num:\n",
    "#                 return True\n",
    "#             else:\n",
    "#                 return False  >> 코드 오류남\n",
    "\n",
    "def is_perfect_number(num):\n",
    "    if get_sum_of_divisors(num) ==num*2:\n",
    "        return True\n",
    "    else:\n",
    "        return False\n",
    "            \n",
    "print(is_perfect_number(10)) # False\n",
    "print(is_perfect_number(12))# False\n",
    "print(is_perfect_number(28)) # True"
   ]
  },
  {
   "cell_type": "code",
   "execution_count": 299,
   "id": "150bf036-0f79-46c9-af56-2e0c51a1d6b4",
   "metadata": {},
   "outputs": [
    {
     "name": "stdout",
     "output_type": "stream",
     "text": [
      "8128\n",
      "496\n",
      "1 2 4 8 16 31 62 124 248 496 \n",
      "None\n",
      "1 2 4 8 16 32 64 127 254 508 1016 2032 4064 8128 \n",
      "None\n"
     ]
    }
   ],
   "source": [
    "##### 5번 완전수 찾기\n",
    "for i in range(1000,10000):\n",
    "    if is_perfect_number(i):\n",
    "        print(i)\n",
    "for i in range(100,1000):\n",
    "    if is_perfect_number(i):\n",
    "        print(i)\n",
    "print(print_divisors(496))\n",
    "print(print_divisors(8128))"
   ]
  },
  {
   "cell_type": "code",
   "execution_count": null,
   "id": "2b49d8d4-4f33-4eca-b8c0-e5e313bb1ccc",
   "metadata": {},
   "outputs": [],
   "source": [
    "def is_divisor(num1 : int, num2 : int) -> bool:\n",
    "    \"\"\"num2가 num1의 약수인지 판별\"\"\" # docstring (Shift + Tab)\n",
    "    return num1 % num2 == 0\n",
    "\n",
    "def print_divisors(num : int):\n",
    "    # num이 10이라면???\n",
    "    print(f\"{num}의 약수 : \", end=\"\")\n",
    "\n",
    "    for i in range(1, num + 1):\n",
    "        if num % i == 0:\n",
    "            print(i, end=\" \")\n",
    "    print()\n",
    "\n",
    "def get_sum_of_divisors(num):\n",
    "    result = 0\n",
    "    for i in range(1, num // 2 + 1): # 속도 개선 코드 day3 에서 한 것과 같음\n",
    "        if is_divisor(num, i):\n",
    "            result += i\n",
    "    result += num\n",
    "    return result\n",
    "\n",
    "def is_perfect_number(num):\n",
    "    return get_sum_of_divisors(num) == num * 2"
   ]
  },
  {
   "cell_type": "code",
   "execution_count": 300,
   "id": "33f62349-be26-45ae-92a7-edbfac5dd466",
   "metadata": {},
   "outputs": [
    {
     "name": "stderr",
     "output_type": "stream",
     "text": [
      " 53%|███████████████████████████████████████▍                                   | 47350/90000 [02:12<01:59, 356.45it/s]\n"
     ]
    },
    {
     "ename": "KeyboardInterrupt",
     "evalue": "",
     "output_type": "error",
     "traceback": [
      "\u001b[1;31m---------------------------------------------------------------------------\u001b[0m",
      "\u001b[1;31mKeyboardInterrupt\u001b[0m                         Traceback (most recent call last)",
      "Cell \u001b[1;32mIn[300], line 4\u001b[0m\n\u001b[0;32m      1\u001b[0m \u001b[38;5;28;01mfrom\u001b[39;00m\u001b[38;5;250m \u001b[39m\u001b[38;5;21;01mtqdm\u001b[39;00m\u001b[38;5;250m \u001b[39m\u001b[38;5;28;01mimport\u001b[39;00m tqdm\n\u001b[0;32m      3\u001b[0m \u001b[38;5;28;01mfor\u001b[39;00m i \u001b[38;5;129;01min\u001b[39;00m tqdm(\u001b[38;5;28mrange\u001b[39m(\u001b[38;5;241m10000\u001b[39m,\u001b[38;5;241m100000\u001b[39m)):\n\u001b[1;32m----> 4\u001b[0m     \u001b[38;5;28;01mif\u001b[39;00m \u001b[43mis_perfect_number\u001b[49m\u001b[43m(\u001b[49m\u001b[43mi\u001b[49m\u001b[43m)\u001b[49m:\n\u001b[0;32m      5\u001b[0m         \u001b[38;5;28mprint\u001b[39m(i)\n",
      "Cell \u001b[1;32mIn[270], line 27\u001b[0m, in \u001b[0;36mis_perfect_number\u001b[1;34m(num)\u001b[0m\n\u001b[0;32m     26\u001b[0m \u001b[38;5;28;01mdef\u001b[39;00m\u001b[38;5;250m \u001b[39m\u001b[38;5;21mis_perfect_number\u001b[39m(num):\n\u001b[1;32m---> 27\u001b[0m     \u001b[38;5;28;01mif\u001b[39;00m \u001b[43mget_sum_of_divisors\u001b[49m\u001b[43m(\u001b[49m\u001b[43mnum\u001b[49m\u001b[43m)\u001b[49m \u001b[38;5;241m==\u001b[39mnum\u001b[38;5;241m*\u001b[39m\u001b[38;5;241m2\u001b[39m:\n\u001b[0;32m     28\u001b[0m         \u001b[38;5;28;01mreturn\u001b[39;00m \u001b[38;5;28;01mTrue\u001b[39;00m\n\u001b[0;32m     29\u001b[0m     \u001b[38;5;28;01melse\u001b[39;00m:\n",
      "Cell \u001b[1;32mIn[260], line 7\u001b[0m, in \u001b[0;36mget_sum_of_divisors\u001b[1;34m(num)\u001b[0m\n\u001b[0;32m      5\u001b[0m result \u001b[38;5;241m=\u001b[39m \u001b[38;5;241m0\u001b[39m\n\u001b[0;32m      6\u001b[0m \u001b[38;5;28;01mfor\u001b[39;00m i \u001b[38;5;129;01min\u001b[39;00m \u001b[38;5;28mrange\u001b[39m(\u001b[38;5;241m1\u001b[39m,num\u001b[38;5;241m+\u001b[39m\u001b[38;5;241m1\u001b[39m):\n\u001b[1;32m----> 7\u001b[0m     \u001b[38;5;28;01mif\u001b[39;00m \u001b[43mis_divisor\u001b[49m\u001b[43m(\u001b[49m\u001b[43mnum\u001b[49m\u001b[43m,\u001b[49m\u001b[43mi\u001b[49m\u001b[43m)\u001b[49m: \u001b[38;5;66;03m# num%i ==0: 와 같음\u001b[39;00m\n\u001b[0;32m      8\u001b[0m         result \u001b[38;5;241m+\u001b[39m\u001b[38;5;241m=\u001b[39m i\n\u001b[0;32m      9\u001b[0m \u001b[38;5;28;01mreturn\u001b[39;00m result\n",
      "Cell \u001b[1;32mIn[32], line 4\u001b[0m, in \u001b[0;36mis_divisor\u001b[1;34m(num1, num2)\u001b[0m\n\u001b[0;32m      1\u001b[0m \u001b[38;5;66;03m# 함수 이름에 is-> 반환값이 논리형\u001b[39;00m\n\u001b[0;32m      2\u001b[0m \u001b[38;5;66;03m# 변수 이름에 is -> 논리형 데이터\u001b[39;00m\n\u001b[0;32m      3\u001b[0m \u001b[38;5;66;03m# 기본 룰임\u001b[39;00m\n\u001b[1;32m----> 4\u001b[0m \u001b[38;5;28;01mdef\u001b[39;00m\u001b[38;5;250m \u001b[39m\u001b[38;5;21mis_divisor\u001b[39m(num1:\u001b[38;5;28mint\u001b[39m,num2:\u001b[38;5;28mint\u001b[39m) \u001b[38;5;241m-\u001b[39m\u001b[38;5;241m>\u001b[39m \u001b[38;5;28mbool\u001b[39m:\n\u001b[0;32m      5\u001b[0m \u001b[38;5;250m    \u001b[39m\u001b[38;5;124;03m\"\"\"num2가 num1의 약수인지 판별\"\"\"\u001b[39;00m \u001b[38;5;66;03m#docstring(Shift + Tab)\u001b[39;00m\n\u001b[0;32m      6\u001b[0m     \u001b[38;5;28;01mreturn\u001b[39;00m num1\u001b[38;5;241m%\u001b[39mnum2\u001b[38;5;241m==\u001b[39m\u001b[38;5;241m0\u001b[39m \u001b[38;5;66;03m# 조건식 >> 논리형으로 받음\u001b[39;00m\n",
      "\u001b[1;31mKeyboardInterrupt\u001b[0m: "
     ]
    }
   ],
   "source": [
    "from tqdm import tqdm\n",
    "\n",
    "for i in tqdm(range(10000,100000)):\n",
    "    if is_perfect_number(i):\n",
    "        print(i)"
   ]
  },
  {
   "cell_type": "code",
   "execution_count": 311,
   "id": "489b935b-e92f-4420-9540-6442b4240eaa",
   "metadata": {},
   "outputs": [
    {
     "data": {
      "text/plain": [
       "55"
      ]
     },
     "execution_count": 311,
     "metadata": {},
     "output_type": "execute_result"
    }
   ],
   "source": [
    "# 가변 매개변수\n",
    "# 변수의 개수가 정해져 있지 않음\n",
    "def add_number(*args):\n",
    "    result = 0\n",
    "    for num in args:\n",
    "        result += num\n",
    "    return result\n",
    "    \n",
    "add_number(1,2,3,4,5,6,7,8,9,10)"
   ]
  },
  {
   "cell_type": "code",
   "execution_count": 312,
   "id": "f7d4ba11-403f-4259-9565-51fa4f7ba9e3",
   "metadata": {},
   "outputs": [
    {
     "name": "stdout",
     "output_type": "stream",
     "text": [
      "(15, 5)\n"
     ]
    }
   ],
   "source": [
    "def cal_number(num1,num2):\n",
    "    return num1+num2,num1-num2\n",
    "    \n",
    "print(cal_number(10,5))\n",
    "\n",
    "#함수의 리턴값이 2개이다(X)\n",
    "#함수는 리턴 값이 반드시 1개임. (아래는 튜플 1개로 리턴한 것)"
   ]
  },
  {
   "cell_type": "code",
   "execution_count": 318,
   "id": "c345a2db-0280-4d5e-aa4b-2fa0fd87e62f",
   "metadata": {},
   "outputs": [
    {
     "name": "stdout",
     "output_type": "stream",
     "text": [
      "64\n",
      "25\n"
     ]
    }
   ],
   "source": [
    "#함수의 기본 값 설정\n",
    "\n",
    "def my_pow(num1,num2=2): # 만약 num2 에 아무런 값이 들어오지 않으면 2가 고정.\n",
    "    result = 1\n",
    "    for _ in range(num2):\n",
    "        result *= num1\n",
    "    return result\n",
    "print(my_pow(2,6))\n",
    "print(my_pow(5))"
   ]
  },
  {
   "cell_type": "code",
   "execution_count": 322,
   "id": "5ff87cc6-4b4b-4441-83a6-439f09bc50df",
   "metadata": {},
   "outputs": [
    {
     "name": "stdout",
     "output_type": "stream",
     "text": [
      "15\n",
      "25\n"
     ]
    }
   ],
   "source": [
    "# 모듈화\n",
    "# 함수, 클래스 -> 간단하게 .py로 만들어서 배포->import\n",
    "#day4.ipynb 와 cal.py가 같은 경로에 있다\n",
    "import cal #cal..py를 로드\n",
    "print(cal.add(10,5))\n",
    "\n",
    "from cal import add\n",
    "print(add(20,5))\n",
    "\n",
    "#왜 파이썬을 썼는가 ? > \"모듈화가 편해서\" ->파이썬 언어만 가지는 특징임."
   ]
  },
  {
   "cell_type": "code",
   "execution_count": 344,
   "id": "ef9519b8-1faf-4606-9a34-355a5bd9bed9",
   "metadata": {},
   "outputs": [],
   "source": [
    "# 절차 지향 프로그래밍()\n",
    "# 객체 지향 프로그래밍(OOP:Object Oriented Programming) -Java,C,Python,...\n",
    "# 독립된 객체들 간의 메세지를 주고 받음으로써 프로그램을 구성하는 방식\n",
    "\n",
    "# 객체의 설계도 : class\n",
    "\n",
    "# 시계 , 바나나\n",
    "# 클래스 명은 대문자로 시작 > 국룰 (한글, 소문자도 가능)\n",
    "class Clock:\n",
    "    #Data\n",
    "    hour = 11\n",
    "    minute = 40\n",
    "    second = 50\n",
    "    \n",
    "    #Logic\n",
    "    #self : 클래스 이름을 반환 \n",
    "    #클래스 내 함수 정의 시 첫 번째 매개변수로 설정\n",
    "    # 클래스 내 변수 호출시 self.변수이름 으로 호출\n",
    "    def show_time(self):\n",
    "        hour = 12\n",
    "        print(f\"{self.hour}시 {self.minute}분 {self.second}초\")\n",
    "\n",
    "class Banana:\n",
    "    color = \"노랗다\"\n",
    "    species = \"과일\"\n",
    "\n",
    "    def who_many_eat(self):\n",
    "        print(\"원숭이\") \n",
    "    def how_eat(self):\n",
    "        print(\"껍질을 벗겨서\")\n",
    "    def show_info(self):\n",
    "        print(f\"색깔 : {self.color}, 종 : {self.species}\")"
   ]
  },
  {
   "cell_type": "code",
   "execution_count": 348,
   "id": "b408f062-c4e6-47d2-8b90-c142e4d2f09e",
   "metadata": {},
   "outputs": [
    {
     "name": "stdout",
     "output_type": "stream",
     "text": [
      "원숭이\n",
      "껍질을 벗겨서\n",
      "색깔 : 노랗다, 종 : 과일\n",
      "색깔 : 초록색, 종 : 과일\n",
      "색깔 : 노랗다, 종 : 과일\n"
     ]
    }
   ],
   "source": [
    "b1 = Banana()\n",
    "b1.who_many_eat()\n",
    "b1.how_eat()\n",
    "b1.show_info()\n",
    "\n",
    "b1.color = \"초록색\"\n",
    "b1.show_info()\n",
    "\n",
    "b2 = Banana()\n",
    "b2.show_info()\n",
    "\n",
    "# b1의 색을 바꾼다고 해도 b2가 바뀌지 않음 > 독립적이다."
   ]
  },
  {
   "cell_type": "code",
   "execution_count": 340,
   "id": "7adf9d97-212e-4a6a-b974-88d527572514",
   "metadata": {},
   "outputs": [
    {
     "name": "stdout",
     "output_type": "stream",
     "text": [
      "11시 40분 50초\n"
     ]
    }
   ],
   "source": [
    "나만의시계 = Clock()\n",
    "나만의시계.show_time()"
   ]
  },
  {
   "cell_type": "code",
   "execution_count": null,
   "id": "c48f03be-b1f6-45de-a6e7-b1cef07c508d",
   "metadata": {},
   "outputs": [],
   "source": [
    "# 객체 지향 프로그래밍 특징\n",
    "# 1) 추상화 (Abstraction) - 객체의 공통적인 속성을 추출하는 행위\n",
    "# 2) 캡슐화(Encapsulation)\n",
    "# 3) 상속(Inheritance)\n",
    "# 4) "
   ]
  },
  {
   "cell_type": "code",
   "execution_count": 359,
   "id": "e7558343-bbb5-44cb-b4cc-42e8df5a548a",
   "metadata": {},
   "outputs": [],
   "source": [
    "class Bank:\n",
    "    #클래스에서 Data, Logic\n",
    "    # field(Data) :멤버 변수, 속성, 특징, 특성, \n",
    "    # function(Logic) :멤버 함수, 동작, 행위, 기능, 메소드, \n",
    "    \n",
    "    # field + function : member \n",
    "    \n",
    "    \n",
    "    # 접근 제어자(Access Modifier)\n",
    "    # 외부에서 변수(함수)를 바라볼 수 있는 범위를 설정.\n",
    "    # public : 누구나 어디에서나 바라볼 수 있음.\n",
    "    # _protected : 상속 관계 + 같은 패키지(폴더)\n",
    "    # __private : 같은 클래스 내에서만 접근 가능\n",
    "\n",
    "    __money = 0\n",
    "\n",
    "    # 입금, 출금, 잔액 확인\n",
    "    def deposit(self,money):\n",
    "        self.__money += money\n",
    "\n",
    "    def withdraw(self,money):\n",
    "        self.__money -= money\n",
    "    def show_me_the_money(self):\n",
    "        print(f\"현재 잔액 : {self.__money}원\")"
   ]
  },
  {
   "cell_type": "code",
   "execution_count": 361,
   "id": "c2742c2e-7a26-4384-bc8a-98d64e932a62",
   "metadata": {},
   "outputs": [
    {
     "name": "stdout",
     "output_type": "stream",
     "text": [
      "현재 잔액 : 0원\n",
      "현재 잔액 : 1000000원\n",
      "현재 잔액 : 330000원\n",
      "현재 잔액 : 330000원\n"
     ]
    }
   ],
   "source": [
    "나만의계좌=Bank()\n",
    "나만의계좌.show_me_the_money() # \".\"을 멤버 접근 연산자 라고함.\n",
    "나만의계좌.deposit(1000000)\n",
    "나만의계좌.show_me_the_money()\n",
    "나만의계좌.withdraw(670000)\n",
    "나만의계좌.show_me_the_money()\n",
    "나만의계좌.money=1_000_000_000 # money를 __money로 바꿈.\n",
    "나만의계좌.show_me_the_money()\n",
    "\n",
    "#Bank 클래스의 속성을 외부 사용자가 접근할 수 있다면 값을 바꿀수 있음\n",
    "#이를 방지하기 위해 캡슐화."
   ]
  },
  {
   "cell_type": "code",
   "execution_count": 411,
   "id": "32219c31-4b4c-457a-9e9e-8047cb26b269",
   "metadata": {},
   "outputs": [],
   "source": [
    "# 생성자(Constructor)\n",
    "\n",
    "# 클래스를 만드는 이유? \n",
    "# 번외 이유 : 나만의 사용자 정의 자료형(VO: Value Object)을 만들고 싶을 때\n",
    "\n",
    "class Contact:\n",
    "    \n",
    "    # __init__는 클래스가 생성될 때 호출\n",
    "    def __init__(self,name,age,mbti):\n",
    "        self.__name = name\n",
    "        self.__age = age\n",
    "        self.__mbti = mbti\n",
    "        \n",
    "        # getter : class 의 field를 반환하는 함수 (매개변수 존재 X , 리턴값 존재)\n",
    "    def get_age(self): \n",
    "        return self.__age\n",
    "\n",
    "        #setter : class 의 field를 외부에서 수정하는 함수\n",
    "        # 나이를 1살 올리고 싶을 때 \n",
    "    def set_age(self,age): \n",
    "        self.__age = age\n",
    "\n",
    "    # 반환값이 무조건 있어야함 show>__str / print >return\n",
    "    def __str__(self):\n",
    "        return(f\"이름 {self.__name}: 나이 : {self.__age}(세) MBTI : {self.__mbti}\")"
   ]
  },
  {
   "cell_type": "code",
   "execution_count": null,
   "id": "98afe801-d887-4634-8d83-d528b0ca16bf",
   "metadata": {},
   "outputs": [],
   "source": []
  },
  {
   "cell_type": "code",
   "execution_count": 412,
   "id": "2547f17c-4bc1-4a01-bc9b-c530aa9b28a3",
   "metadata": {},
   "outputs": [
    {
     "ename": "AttributeError",
     "evalue": "'Contact' object has no attribute 'show'",
     "output_type": "error",
     "traceback": [
      "\u001b[1;31m---------------------------------------------------------------------------\u001b[0m",
      "\u001b[1;31mAttributeError\u001b[0m                            Traceback (most recent call last)",
      "Cell \u001b[1;32mIn[412], line 13\u001b[0m\n\u001b[0;32m      7\u001b[0m \u001b[38;5;66;03m# c2.name = \"수지\"\u001b[39;00m\n\u001b[0;32m      8\u001b[0m \u001b[38;5;66;03m# c2.age = 30\u001b[39;00m\n\u001b[0;32m      9\u001b[0m \u001b[38;5;66;03m# c2.mbti = \"INFP\"\u001b[39;00m\n\u001b[0;32m     12\u001b[0m \u001b[38;5;28;01mfor\u001b[39;00m contact \u001b[38;5;129;01min\u001b[39;00m contact_list:\n\u001b[1;32m---> 13\u001b[0m     \u001b[43mcontact\u001b[49m\u001b[38;5;241;43m.\u001b[39;49m\u001b[43mshow\u001b[49m()\n\u001b[0;32m     15\u001b[0m \u001b[38;5;66;03m# c1.show()\u001b[39;00m\n\u001b[0;32m     16\u001b[0m \u001b[38;5;66;03m# c2.show()\u001b[39;00m\n\u001b[0;32m     17\u001b[0m \n\u001b[1;32m   (...)\u001b[0m\n\u001b[0;32m     25\u001b[0m \n\u001b[0;32m     26\u001b[0m \u001b[38;5;66;03m# 나이를 1살 올리고 싶을 때 \u001b[39;00m\n\u001b[0;32m     28\u001b[0m contact_list\u001b[38;5;241m=\u001b[39m[c1,c2]\n",
      "\u001b[1;31mAttributeError\u001b[0m: 'Contact' object has no attribute 'show'"
     ]
    }
   ],
   "source": [
    "c1= Contact(\"나예호\",20,\"ENFJ\") #클래스 생성\n",
    "c1.name = \"공유\" #__가 없는 public 인 경우엔 수정이 됨.\n",
    "# c1.age = 20\n",
    "# c1.mbit = \"ENFJ\"\n",
    "\n",
    "c2= Contact(\"수지\",30,\"INFP\") # 생성 할 때 ()에 값을 넣어야함.\n",
    "# c2.name = \"수지\"\n",
    "# c2.age = 30\n",
    "# c2.mbti = \"INFP\"\n",
    "\n",
    "\n",
    "# show를 str로 바꾸기 전 위아래는 같은코드\n",
    "# for contact in contact_list:\n",
    "#     contact.show()\n",
    "# c1.show()\n",
    "# c2.show()\n",
    "\n",
    "#c1의 값 발췌 (나이의 합)\n",
    "\n",
    "# contact_list=[c1,c2]\n",
    "# result = 0\n",
    "# for contact in contact_list:\n",
    "#     result += contact.get_age()\n",
    "# print(result)\n",
    "\n",
    "# 나이를 1살 올리고 싶을 때 \n",
    "\n",
    "contact_list=[c1,c2]\n",
    "result = 0\n",
    "for contact in contact_list:\n",
    "    contact.set_age(contact.get_age()+1)\n",
    "    result += contact.get_age()\n",
    "print(result)\n"
   ]
  },
  {
   "cell_type": "code",
   "execution_count": 408,
   "id": "ccabca5f-3bfe-491e-a3d1-822066294cab",
   "metadata": {},
   "outputs": [
    {
     "name": "stdout",
     "output_type": "stream",
     "text": [
      "이름 나예호: 나이 : 21(세) MBTI : ENFJ\n"
     ]
    }
   ],
   "source": [
    "#str 내장함수 사용\n",
    "print(c1)\n"
   ]
  },
  {
   "cell_type": "code",
   "execution_count": 416,
   "id": "3146c304-a489-4bbc-9df3-61f88e0cad89",
   "metadata": {},
   "outputs": [],
   "source": [
    "# 3) 상속(Inheritance)\n",
    "# 기존에 만들어졌던 클래스의 멤버를 물려받아 재사용\n",
    "\n",
    "# 부모 클래스의 멤버를 물려 받아 자식 클래스에서 재활용\n",
    "# 부모 클래스(Super Class, 상위 클래스) / 자식 클래스(Sub Class,하위 클래스)\n",
    "# 동물\n",
    "# 강아지, 토끼, 고양이, 말\n",
    "\n",
    "# 대표적인 Python 객체지향의 다형성\n",
    "# 함수 Overriding\n",
    "# 자식 클래스에서 부모로부터 받은 함수를 재정의 하는 것.\n",
    "class Dog:\n",
    "    appearance = \"귀엽다\"\n",
    "    charicteristic = \"충직\"\n",
    "    문 = \"척추동물\"\n",
    "\n",
    "    def mammal(self): \n",
    "        print(\"포유류\")\n",
    "    def eat(self): \n",
    "        print(\"사료 먹는다\")\n",
    "    def cry(self):\n",
    "        print(\"월월\")\n",
    "    def __str__(self):\n",
    "        return f\"외모 : {self.appearance}, 성격 : {self.charicteristic}, 문: {self.문}\""
   ]
  },
  {
   "cell_type": "code",
   "execution_count": 419,
   "id": "ca6449a5-2607-492a-a586-b27f4951fa60",
   "metadata": {},
   "outputs": [
    {
     "name": "stdout",
     "output_type": "stream",
     "text": [
      "외모 : 귀엽다, 성격 : 충직, 문: 척추동물\n",
      "포유류\n",
      "월월\n",
      "사료 먹는다\n"
     ]
    }
   ],
   "source": [
    "꽃님이 = Dog()\n",
    "print(꽃님이)\n",
    "꽃님이.mammal()\n",
    "꽃님이.cry()\n",
    "꽃님이.eat()"
   ]
  },
  {
   "cell_type": "code",
   "execution_count": 430,
   "id": "b39e2473-0173-4049-80b4-d49e65411ca2",
   "metadata": {},
   "outputs": [],
   "source": [
    "class Mammal:\n",
    "    def mammal(self): \n",
    "        print(\"포유류\")\n",
    "        \n",
    "    def eat(self): \n",
    "        print(\"무언가 먹는다\")\n",
    "        \n",
    "    def cry(self): \n",
    "        print(\"어떻게 울지?\")"
   ]
  },
  {
   "cell_type": "code",
   "execution_count": null,
   "id": "ec6519e2-465c-4b17-bf6b-2cb8b690b387",
   "metadata": {},
   "outputs": [],
   "source": []
  },
  {
   "cell_type": "code",
   "execution_count": 439,
   "id": "39e0b6d9-ac33-4337-a9ba-3b5a3454f81e",
   "metadata": {},
   "outputs": [],
   "source": [
    "#class 클래스 명 (부모 클래스)\n",
    "class Cat(Mammal):\n",
    "    외모 = \"귀엽다, 수염이 있다\"\n",
    "    성격 = \"까칠하다\"\n",
    "    문 = \"척삭동물\"\n",
    "    \n",
    "    def eat(self): \n",
    "        print(\"사료 냠냠\")\n",
    "        \n",
    "    def cry(self): \n",
    "        print(\"야옹\")\n",
    "        \n",
    "    def __str__(self):\n",
    "        return f\"외모 : {self.외모}, 성격 : {self.성격}, 문: {self.문}\""
   ]
  },
  {
   "cell_type": "code",
   "execution_count": 441,
   "id": "2e6d10b3-f493-4d3e-9358-f8c438a1a102",
   "metadata": {},
   "outputs": [
    {
     "name": "stdout",
     "output_type": "stream",
     "text": [
      "외모 : 귀엽다, 수염이 있다, 성격 : 까칠하다, 문: 척삭동물\n",
      "포유류\n",
      "야옹\n",
      "사료 냠냠\n"
     ]
    }
   ],
   "source": [
    "# 자식 클래스에 없으면 부모 클래스에서 호출\n",
    "# 다형성\n",
    "\n",
    "나비 = Cat()\n",
    "print(나비)\n",
    "나비.mammal()\n",
    "나비.cry()\n",
    "나비.eat()"
   ]
  },
  {
   "cell_type": "code",
   "execution_count": 424,
   "id": "200ca63f-ff98-46a7-900b-927286009b64",
   "metadata": {},
   "outputs": [],
   "source": [
    "class Rabbit:\n",
    "    외모 = \"귀엽다, 귀가 길다\"\n",
    "    성격 = \"겁이 많다\"\n",
    "    문 = \"척삭동물\"\n",
    "\n",
    "    def mammal(self): \n",
    "        print(\"포유류\")\n",
    "    def eat(self): \n",
    "        print(\"풀\")\n",
    "    def cry(self):\n",
    "        print(\"삑삑\")\n",
    "\n",
    "    def __str__(self):\n",
    "        return f\"외모 : {self.외모}, 성격 : {self.성격}, 문: {self.문}\""
   ]
  },
  {
   "cell_type": "code",
   "execution_count": 423,
   "id": "2637bcd3-4039-4ac4-a20b-68e42c866b08",
   "metadata": {},
   "outputs": [
    {
     "name": "stdout",
     "output_type": "stream",
     "text": [
      "외모 : 귀엽다, 귀가 길다, 성격 : 겁이 많다, 문: 척삭동물\n",
      "포유류\n",
      "삑삑\n",
      "풀\n"
     ]
    }
   ],
   "source": [
    "새초미 = Rabbit()\n",
    "print(새초미)\n",
    "꽃님이.mammal()\n",
    "새초미.cry()\n",
    "새초미.eat()"
   ]
  },
  {
   "cell_type": "code",
   "execution_count": 442,
   "id": "4377c221-e96a-4e20-9661-64cb8153ea27",
   "metadata": {},
   "outputs": [
    {
     "data": {
      "text/plain": [
       "<Response [200]>"
      ]
     },
     "execution_count": 442,
     "metadata": {},
     "output_type": "execute_result"
    }
   ],
   "source": [
    "# 영화 진흥 위원회 API\n",
    "\n",
    "import requests\n",
    "MY_API_KEY = \"7077141e402b34395ff1bda2f711ff5c\"\n",
    "date = \"20250904\"\n",
    "url_movie = f\"https://kobis.or.kr/kobisopenapi/webservice/rest/boxoffice/searchDailyBoxOfficeList.json?key={MY_API_KEY}&targetDt={date}\"\n",
    "\n",
    "response = requests.get(url_movie)\n",
    "response"
   ]
  },
  {
   "cell_type": "code",
   "execution_count": 480,
   "id": "70dc182d-a307-40c6-9917-1369ba92a3c5",
   "metadata": {},
   "outputs": [],
   "source": [
    "# 영화 관련 자료형\n",
    "class Movie:\n",
    "\n",
    "    def __init__(self, rank, movieNm, audiCnt, audiAcc):\n",
    "        self.rank = rank       # 순위\n",
    "        self.movieNm = movieNm # 영화 이름\n",
    "        self.audiCnt = audiCnt # 일별 관객수\n",
    "        self.audiAcc = audiAcc # 누적 관객수\n",
    "\n",
    "    def __str__(self):\n",
    "        return f\"{self.rank}위 : {self.movieNm}({self.audiCnt}명/{self.audiAcc}명)\""
   ]
  },
  {
   "cell_type": "code",
   "execution_count": 478,
   "id": "d542bc4c-e904-4fbe-94c8-e6a4810fea4c",
   "metadata": {},
   "outputs": [],
   "source": [
    "movie_list = []\n",
    "\n",
    "for i in range(10):\n",
    "    rank = result[\"boxOfficeResult\"][\"dailyBoxOfficeList\"][i][\"rank\"]\n",
    "    movieNm = result[\"boxOfficeResult\"][\"dailyBoxOfficeList\"][i][\"movieNm\"]\n",
    "    audiCnt = result[\"boxOfficeResult\"][\"dailyBoxOfficeList\"][i][\"audiCnt\"]\n",
    "    audiAcc = result[\"boxOfficeResult\"][\"dailyBoxOfficeList\"][i][\"audiAcc\"]\n",
    "\n",
    "    movie = Movie(rank, movieNm, audiCnt, audiAcc)\n",
    "    movie_list.append(movie)"
   ]
  },
  {
   "cell_type": "code",
   "execution_count": 479,
   "id": "7f47d948-5479-4225-b96d-61f8b2fdc4cb",
   "metadata": {},
   "outputs": [
    {
     "name": "stdout",
     "output_type": "stream",
     "text": [
      "1위 : 극장판 귀멸의 칼날: 무한성편(62691명/3458748명)\n",
      "2위 : 컨저링: 마지막 의식(28524명/68447명)\n",
      "3위 : F1 더 무비(13230명/4826681명)\n",
      "4위 : 좀비딸(12983명/5411863명)\n",
      "5위 : 투게더(4515명/15019명)\n",
      "6위 : 첫사랑 엔딩(3468명/84391명)\n",
      "7위 : 악마가 이사왔다(1535명/425187명)\n",
      "8위 : 긴키 지방의 어느 장소에 대하여(1307명/260195명)\n",
      "9위 : 노바디2(1200명/53902명)\n",
      "10위 : 이티(1044명/11492명)\n"
     ]
    }
   ],
   "source": [
    "for movie in movie_list:\n",
    "    print(movie)"
   ]
  },
  {
   "cell_type": "code",
   "execution_count": null,
   "id": "92fb401a-97d7-4313-8ae2-7e9c551b4523",
   "metadata": {},
   "outputs": [],
   "source": [
    "# 자료구조 (Data Structure)\n",
    "# 자료들을 효율적으로 다루기 위한 방법\n",
    "# 선형 자료 구조 : 배열, 연결 리스트, 스택, 큐 \n",
    "# 비선형 자료 구조 : 트리, 그래프 "
   ]
  },
  {
   "cell_type": "code",
   "execution_count": null,
   "id": "c6be9526-28d5-4c49-bbc8-6b0e2a009453",
   "metadata": {},
   "outputs": [],
   "source": [
    "# Python에서 배열을 표현\n",
    "# 배열은 첨자를 사용 \n",
    "# 인덱스가 0부터 시작해 순차적임.\n",
    "# 크기가 고정되어 있다."
   ]
  },
  {
   "cell_type": "code",
   "execution_count": 509,
   "id": "912afc42-f810-4ef6-bb83-8e3ec2998215",
   "metadata": {},
   "outputs": [],
   "source": [
    "class Array:\n",
    "    def __init__(self, *args):\n",
    "        self.data = args\n",
    "\n",
    "    def get(self, index):\n",
    "        return self.data[index]\n",
    "\n",
    "    def __str__(self):\n",
    "        return str(self.data)"
   ]
  },
  {
   "cell_type": "code",
   "execution_count": 510,
   "id": "417baba9-2655-43d6-aa02-a0280ce1fa60",
   "metadata": {},
   "outputs": [
    {
     "name": "stdout",
     "output_type": "stream",
     "text": [
      "(1, 2, 3, 4)\n"
     ]
    }
   ],
   "source": [
    "arr1 = Array(1,2,3,4)\n",
    "arr1.get(2) # 2번 인덱스에 있는 값을 return\n",
    "\n",
    "print(arr1)"
   ]
  },
  {
   "cell_type": "code",
   "execution_count": 513,
   "id": "7f9b0a4c-91ab-40c4-8895-4684da12e33f",
   "metadata": {},
   "outputs": [],
   "source": [
    "class Node:\n",
    "\n",
    "    def __init__(self,data):\n",
    "        self.data = data\n",
    "        self.next = None"
   ]
  },
  {
   "cell_type": "code",
   "execution_count": 543,
   "id": "1e0dec1b-bf56-4671-8cbf-64ead3ac7c75",
   "metadata": {},
   "outputs": [],
   "source": [
    "# 연결 리스트 (Linked List)\n",
    "class LinkedList:\n",
    "    def __init__(self):\n",
    "        self.head = None\n",
    "\n",
    "    def append(self,data):\n",
    "        if self.head == None:\n",
    "            self.head = Node(data)\n",
    "        else:\n",
    "            curr = self.head # 현재 우리가 가리키고 있는 노드\n",
    "            while curr.next:\n",
    "                curr = curr.next\n",
    "            curr.next = Node(data)\n",
    "    def __str__(self):\n",
    "        # 1 -> 2 -> 10 -> ... 형식으로 출력\n",
    "        result = \"\"\n",
    "        curr = self.head\n",
    "        \n",
    "        while True:\n",
    "            result += str(curr.data)\n",
    "            \n",
    "            \n",
    "            if curr.next == None:\n",
    "                 break\n",
    "            curr = curr.next\n",
    "            result += \" -> \" \n",
    "\n",
    "        return result"
   ]
  },
  {
   "cell_type": "code",
   "execution_count": 544,
   "id": "ef8c0a48-cbd7-4130-9e18-b24390d54f0d",
   "metadata": {},
   "outputs": [
    {
     "name": "stdout",
     "output_type": "stream",
     "text": [
      "1 -> 2 -> 10 -> 100 -> 20000\n"
     ]
    }
   ],
   "source": [
    "list1 = LinkedList()\n",
    "list1.append(1)\n",
    "list1.append(2)\n",
    "list1.append(10)\n",
    "list1.append(100)\n",
    "list1.append(20000)\n",
    "print(list1)"
   ]
  },
  {
   "cell_type": "code",
   "execution_count": null,
   "id": "679744c0-04f5-40a1-a518-8c0df41ec83b",
   "metadata": {},
   "outputs": [],
   "source": [
    "# 스택\n",
    "# Node 활용\n",
    "# Last In First Out(LIFO)\n",
    "# push(10)\n",
    "# pop() -> 가장 위 노드를 제거, 노드 data를 반환\n",
    "# peak() -> 가장 위 노드 data 를 반환\n",
    "# is_empty() -> 만약, 스택이 비어있으면 True, 비어있지 않으면 False"
   ]
  },
  {
   "cell_type": "code",
   "execution_count": 554,
   "id": "a586961f-e685-40f2-9613-50b146abe3ca",
   "metadata": {},
   "outputs": [],
   "source": [
    "class Node:\n",
    "    def __init__(self,data):\n",
    "        self.data = data\n",
    "        self.next = None\n",
    "\n",
    "class Stack:\n",
    "    def __init__(self):\n",
    "        self.top = None\n",
    "    \n",
    "    def push(self,data):\n",
    "        if self.top == None:\n",
    "            self.top = Node(data)\n",
    "        else:\n",
    "            #첫 노드가 10 두 번째 노드가 20\n",
    "            #첫 번째 노드.next -> 두 번째 노드\n",
    "            curr = Node(data)\n",
    "            curr.next = self.top\n",
    "            self.top = curr\n",
    "\n",
    "    def pop(self):\n",
    "        # 가장 윗 노드 제거, 해당 data 반환\n",
    "        if self.top == None:\n",
    "            return None\n",
    "        else:\n",
    "            curr = self.top\n",
    "            self.top = self.top.next\n",
    "            return curr.data\n",
    "\n",
    "    def peek(self):\n",
    "        #가장 윗 노드의 data 반환\n",
    "        if self.top == None:\n",
    "            return None\n",
    "        else:\n",
    "            curr = self.top\n",
    "            return curr.data\n",
    "            \n",
    "    def is_empty(self):\n",
    "        return self.top == None\n",
    "\n",
    "    def __str__(self):\n",
    "        result = \"\"\n",
    "        curr = self.top\n",
    "        while True:\n",
    "            result += str(curr.data)\n",
    "            if curr.next == None:\n",
    "                break\n",
    "            curr = curr.next\n",
    "            result += \" -> \"\n",
    "        \n",
    "        return result"
   ]
  },
  {
   "cell_type": "code",
   "execution_count": 555,
   "id": "1b2e56d4-8e3a-4452-855c-5c4dc53fcc81",
   "metadata": {},
   "outputs": [
    {
     "name": "stdout",
     "output_type": "stream",
     "text": [
      "30\n",
      "20\n",
      "20 -> 10\n"
     ]
    }
   ],
   "source": [
    "s = Stack()\n",
    "s.push(10)\n",
    "s.push(20)\n",
    "s.push(30)\n",
    "print(s.pop())\n",
    "print(s.peek())\n",
    "print(s)"
   ]
  },
  {
   "cell_type": "code",
   "execution_count": 573,
   "id": "f6b3bafa-f62f-4825-9c5f-6ef7046832c2",
   "metadata": {},
   "outputs": [
    {
     "name": "stdin",
     "output_type": "stream",
     "text": [
      " 6\n",
      " )(\n"
     ]
    },
    {
     "ename": "AttributeError",
     "evalue": "'Stack' object has no attribute 'pop'",
     "output_type": "error",
     "traceback": [
      "\u001b[1;31m---------------------------------------------------------------------------\u001b[0m",
      "\u001b[1;31mAttributeError\u001b[0m                            Traceback (most recent call last)",
      "Cell \u001b[1;32mIn[573], line 37\u001b[0m\n\u001b[0;32m     35\u001b[0m \u001b[38;5;28;01mfor\u001b[39;00m _ \u001b[38;5;129;01min\u001b[39;00m \u001b[38;5;28mrange\u001b[39m(T):\n\u001b[0;32m     36\u001b[0m     valid \u001b[38;5;241m=\u001b[39m \u001b[38;5;28minput\u001b[39m()\n\u001b[1;32m---> 37\u001b[0m     \u001b[43mis_valid\u001b[49m\u001b[43m(\u001b[49m\u001b[43mvalid\u001b[49m\u001b[43m)\u001b[49m\n",
      "Cell \u001b[1;32mIn[573], line 23\u001b[0m, in \u001b[0;36mis_valid\u001b[1;34m(valid)\u001b[0m\n\u001b[0;32m     21\u001b[0m     braket\u001b[38;5;241m.\u001b[39mpush(ps)\n\u001b[0;32m     22\u001b[0m \u001b[38;5;28;01melse\u001b[39;00m:\n\u001b[1;32m---> 23\u001b[0m     \u001b[38;5;28;01mif\u001b[39;00m \u001b[43mbraket\u001b[49m\u001b[38;5;241;43m.\u001b[39;49m\u001b[43mpop\u001b[49m() \u001b[38;5;241m==\u001b[39m \u001b[38;5;124m\"\u001b[39m\u001b[38;5;124m(\u001b[39m\u001b[38;5;124m\"\u001b[39m:\n\u001b[0;32m     24\u001b[0m         \u001b[38;5;28;01mcontinue\u001b[39;00m\n\u001b[0;32m     25\u001b[0m     \u001b[38;5;28;01melse\u001b[39;00m:\n",
      "\u001b[1;31mAttributeError\u001b[0m: 'Stack' object has no attribute 'pop'"
     ]
    }
   ],
   "source": [
    "#백준 9012번 괄호 (스택문제)\n",
    "# continue : 반복문의 다음 바퀴 진행\n",
    "# pass : if, else의 내용 없음을 방지\n",
    "\n",
    "def is_valid(valid):   \n",
    "    is_vps = True\n",
    "    \n",
    "    braket = Stack()\n",
    "    for ps in valid : \n",
    "        if ps == \"(\":\n",
    "            braket.push(ps)\n",
    "        else:\n",
    "            if braket.pop() == \"(\":\n",
    "                continue\n",
    "            else:\n",
    "                is_vps = False\n",
    "                break\n",
    "    \n",
    "    if not braket.is_empty():\n",
    "        is_vps = False\n",
    "    \n",
    "    print(\"YSE\" if is_vps else \"NO\")   \n",
    "\n",
    "T = int(input())\n",
    "for _ in range(T):\n",
    "    valid = input()\n",
    "    is_valid(valid)"
   ]
  },
  {
   "cell_type": "code",
   "execution_count": null,
   "id": "76c51c48-6d02-487e-b093-be6313b45516",
   "metadata": {},
   "outputs": [],
   "source": [
    "class Node:\n",
    "    def __init__(self, data):\n",
    "        self.data = data\n",
    "        self.next = None\n",
    "\n",
    "class Stack:\n",
    "    def __init__(self):\n",
    "        self.top = None\n",
    "\n",
    "    def push(self, data):\n",
    "        if self.top == None:\n",
    "            self.top = Node(data)\n",
    "        else:\n",
    "            curr = Node(data)\n",
    "            curr.next = self.top\n",
    "            self.top = curr\n",
    "\n",
    "    def pop(self):\n",
    "        # 가장 윗 노드 제거, 해당 data 반환\n",
    "        if self.top == None:\n",
    "            return None\n",
    "        else:\n",
    "            curr = self.top\n",
    "            self.top = self.top.next\n",
    "            return curr.data\n",
    "    def peek(self):\n",
    "        # 가장 윗 노드의 data 반환\n",
    "        if self.top == None:\n",
    "            return None\n",
    "        else:\n",
    "            curr = self.top\n",
    "            return curr.data\n",
    "\n",
    "    def is_empty(self):\n",
    "        return self.top == None\n",
    "\n",
    "    def __str__(self):\n",
    "        result = \"\"\n",
    "\n",
    "        curr = self.top\n",
    "\n",
    "        while True:\n",
    "            result += str(curr.data)\n",
    "            if curr.next == None:\n",
    "                break\n",
    "            curr = curr.next\n",
    "            result += \" -> \"\n",
    "            \n",
    "        return result\n",
    "\n",
    "def is_valid(valid):\n",
    "    is_vps = True\n",
    "    \n",
    "    braket = Stack()\n",
    "    for ps in valid:\n",
    "        if ps == \"(\":\n",
    "            braket.push(ps)\n",
    "        else:\n",
    "            if braket.pop() == \"(\":\n",
    "                continue\n",
    "            else:\n",
    "                is_vps = False\n",
    "                break\n",
    "    if not braket.is_empty():\n",
    "        is_vps = False\n",
    "    print(\"YES\" if is_vps else \"NO\")\n",
    "\n",
    "T = int(input())\n",
    "for _ in range(T):\n",
    "    valid = input()\n",
    "    is_valid(valid)"
   ]
  },
  {
   "cell_type": "code",
   "execution_count": null,
   "id": "db0f5b4e-8cf8-461e-8906-1ae4da4f42c7",
   "metadata": {},
   "outputs": [],
   "source": []
  },
  {
   "cell_type": "code",
   "execution_count": null,
   "id": "b6d92539-bc13-4f96-bc70-230e6680887e",
   "metadata": {},
   "outputs": [],
   "source": []
  },
  {
   "cell_type": "code",
   "execution_count": null,
   "id": "7b2530ef-a59e-487d-a503-84c15ab9356a",
   "metadata": {},
   "outputs": [],
   "source": []
  }
 ],
 "metadata": {
  "kernelspec": {
   "display_name": "Python 3 (ipykernel)",
   "language": "python",
   "name": "python3"
  },
  "language_info": {
   "codemirror_mode": {
    "name": "ipython",
    "version": 3
   },
   "file_extension": ".py",
   "mimetype": "text/x-python",
   "name": "python",
   "nbconvert_exporter": "python",
   "pygments_lexer": "ipython3",
   "version": "3.9.23"
  }
 },
 "nbformat": 4,
 "nbformat_minor": 5
}
