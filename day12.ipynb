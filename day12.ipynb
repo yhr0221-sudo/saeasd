{
 "cells": [
  {
   "cell_type": "code",
   "execution_count": null,
   "id": "5523f849-1695-4807-a390-aea32568e1ec",
   "metadata": {},
   "outputs": [],
   "source": [
    "# 모듈화 시켜서 배포\n",
    "# aws.py\n",
    "# └ class Rekognition\n",
    "#   └ compare_faces\n",
    "#   └ detect_faces\n",
    "#   └ detect_label\n",
    "#   └ recognize_celeb"
   ]
  },
  {
   "cell_type": "code",
   "execution_count": 11,
   "id": "899cc75f-fd58-460c-bed5-e7807dd78048",
   "metadata": {},
   "outputs": [
    {
     "name": "stdout",
     "output_type": "stream",
     "text": [
      "동일 인물일 확률 : 99.82%\n"
     ]
    }
   ],
   "source": [
    "import boto3\n",
    "\n",
    "def compare_faces(sourceFile, targetFile):\n",
    "\n",
    "    client = boto3.client('rekognition')\n",
    "\n",
    "    imageSource = open(sourceFile, 'rb')\n",
    "    imageTarget = open(targetFile, 'rb')\n",
    "\n",
    "    response = client.compare_faces(SimilarityThreshold=0,\n",
    "                                    SourceImage={'Bytes': imageSource.read()},\n",
    "                                    TargetImage={'Bytes': imageTarget.read()})\n",
    "    result = \"\"\n",
    "    for faceMatch in response['FaceMatches']:\n",
    "        position = faceMatch['Face']['BoundingBox']\n",
    "        \n",
    "        # 사용자를 위한 UI\n",
    "        result = f\"동일 인물일 확률 : {faceMatch['Similarity'] :.2f}%\"\n",
    "\n",
    "    imageSource.close()\n",
    "    imageTarget.close()\n",
    "    if len(response['FaceMatches']) == 0:\n",
    "        return \"얼굴을 인식할 수 없습니다.\"\n",
    "    else:\n",
    "        return result\n",
    "    return len(response['FaceMatches'])\n",
    "\n",
    "def main():\n",
    "    source_file = 'imgs/pbk2.jpeg'\n",
    "    target_file = 'imgs/pbk.jpeg'\n",
    "    face_matches = compare_faces(source_file, target_file)\n",
    "    print(face_matches)\n",
    "if __name__ == \"__main__\":\n",
    "    main()"
   ]
  },
  {
   "cell_type": "code",
   "execution_count": 18,
   "id": "c8546888-54ca-4d68-a5a1-b05b9948c111",
   "metadata": {},
   "outputs": [
    {
     "name": "stdout",
     "output_type": "stream",
     "text": [
      "성별 : 남성\n",
      "나이 : 17(세)\n",
      "감정 : CALM\n"
     ]
    }
   ],
   "source": [
    "import boto3\n",
    "import json\n",
    "\n",
    "def detect_faces(photo):\n",
    "    \n",
    "    client = boto3.client('rekognition')\n",
    "\n",
    "    with open(photo, \"rb\") as image:\n",
    "        response = client.detect_faces(Image={'Bytes' : image.read()}, Attributes=['ALL'])\n",
    "\n",
    "    result = \"\"\n",
    "    for faceDetail in response['FaceDetails']:\n",
    "\n",
    "        # 성별 : 남성   (혹은 여성)\n",
    "        gender = faceDetail['Gender']['Value']\n",
    "        result += f\"성별 : {'남성' if gender == 'Male' else '여성'}\\n\"\n",
    "        # 나이 : 28(세) (24 ~ 32의 평균)\n",
    "        age = (faceDetail['AgeRange']['Low'] + faceDetail['AgeRange']['High']) // 2\n",
    "        result += f\"나이 : {age}(세)\\n\"\n",
    "        # 감정 : HAPPY\n",
    "        emotion = faceDetail['Emotions'][0]['Type']\n",
    "        result += f\"감정 : {emotion}\"\n",
    "\n",
    "    if len(response['FaceDetails']) == 0:\n",
    "        return \"얼굴을 인식할 수 없습니다\"\n",
    "    else:\n",
    "        return result\n",
    "    \n",
    "def main():\n",
    "    photo='imgs/pbk2.jpeg'\n",
    "    face_count=detect_faces(photo)\n",
    "    print(face_count)\n",
    "\n",
    "if __name__ == \"__main__\":\n",
    "    main()"
   ]
  },
  {
   "cell_type": "code",
   "execution_count": 24,
   "id": "27f2c2dd-e5b5-4a0f-a228-634a3f098a16",
   "metadata": {},
   "outputs": [
    {
     "name": "stdout",
     "output_type": "stream",
     "text": [
      "Celebrities detected:  설윤\n"
     ]
    }
   ],
   "source": [
    "import boto3\n",
    "\n",
    "def recognize_celebrities(photo):\n",
    "    \n",
    "    client = boto3.client('rekognition')\n",
    "\n",
    "    with open(photo, 'rb') as image:\n",
    "        response = client.recognize_celebrities(Image={'Bytes': image.read()})\n",
    "\n",
    "    result = \"\"\n",
    "    # 닮은 연예인이 없는 경우 ... 누가 들어도 괜찮은 사람을 닮았다고 리턴\n",
    "    celeb_list = [\"송중기\", \"아리아나 그란데\", \"아이유\", \"장원영\", \"카리나\", \" 설윤\", \"송강\", \"강동원\"]\n",
    "    \n",
    "    for celebrity in response['CelebrityFaces']:\n",
    "        result = celebrity['Name']\n",
    "\n",
    "    import random\n",
    "    if len(response['CelebrityFaces']) == 0 :\n",
    "        return random.choice(celeb_list)\n",
    "        # 위 리스트 중 랜덤하게 1인 return 하기\n",
    "        \n",
    "    else:\n",
    "        return result\n",
    "        \n",
    "def main():\n",
    "    photo = 'imgs/img5.jpg'\n",
    "    celeb_count = recognize_celebrities(photo)\n",
    "    print(\"Celebrities detected: \" + str(celeb_count))\n",
    "\n",
    "if __name__ == \"__main__\":\n",
    "    main()"
   ]
  },
  {
   "cell_type": "code",
   "execution_count": 32,
   "id": "ac6785c0-79e9-48f6-9253-274b040d431a",
   "metadata": {},
   "outputs": [
    {
     "name": "stdout",
     "output_type": "stream",
     "text": [
      "Nature : 93.37%\n",
      "Outdoors : 93.37%\n",
      "Snow : 93.37%\n",
      "Snowman : 93.37%\n",
      "Winter : 93.37%\n",
      "Plush : 89.48%\n",
      "Toy : 89.48%\n",
      "Cartoon : 61.97%\n",
      "Bathroom : 55.14%\n",
      "Indoors : 55.14%\n",
      "Room : 55.14%\n",
      "Toilet : 55.14%\n",
      "\n"
     ]
    }
   ],
   "source": [
    "import boto3\n",
    "\n",
    "# 1) 이미지를 던졌을 때, 해당 label을 return해주는 서비스\n",
    "\n",
    "def detect_labels_local_file(photo):\n",
    "\n",
    "\n",
    "    client=boto3.client('rekognition')\n",
    "   \n",
    "    with open(photo, 'rb') as image:\n",
    "        response = client.detect_labels(Image={'Bytes': image.read()})\n",
    "        \n",
    "    result = \"\"   \n",
    "    for label in response['Labels']:\n",
    "        result += f\"{label['Name']} : {label['Confidence']:.2f}%\\n\"\n",
    "    if len(response['Labels']) == 0 :\n",
    "        return \"잘못된 이미지 입니다.\"\n",
    "    else:\n",
    "        return result\n",
    "    return len(response['Labels'])\n",
    "\n",
    "def main():\n",
    "    photo='imgs/pengsoo.png'\n",
    "\n",
    "    label_count=detect_labels_local_file(photo)\n",
    "    print(label_count)\n",
    "\n",
    "\n",
    "if __name__ == \"__main__\":\n",
    "    main()"
   ]
  },
  {
   "cell_type": "code",
   "execution_count": 58,
   "id": "06897fd5-3636-471d-8b23-9d6c4410d723",
   "metadata": {},
   "outputs": [
    {
     "name": "stdout",
     "output_type": "stream",
     "text": [
      "Dog이(가) 아닙니다.\n"
     ]
    }
   ],
   "source": [
    "import boto3\n",
    "\n",
    "# 2) 이 이미지가 강아지인지 아닌지 확인하고 싶어서\n",
    "#   -> 강아지 일 확률은 95%입니다\n",
    "#   -> \"강아지가 아닙니다\"\n",
    "\n",
    "def detect_is_label(photo, key):\n",
    "                                # 확인하고자 하는 key 강아지? 고양이 ?\n",
    "\n",
    "    client=boto3.client('rekognition')\n",
    "   \n",
    "    with open(photo, 'rb') as image:\n",
    "        response = client.detect_labels(Image={'Bytes': image.read()})\n",
    "        \n",
    "    result = \"\" \n",
    "    # 강아지는 Dog 라는 key를 가지고 있다.\n",
    "    # 해당 key가 존재한다면\n",
    "    # 사용자에게 \" 강아지일 확률은 95.05입니다. \"return\n",
    "\n",
    "    is_checked = False\n",
    "    # 사용자에게 \" 강아지가 아닙니다. \" return\n",
    "    \n",
    "    for label in response['Labels']:\n",
    "        if label['Name'] == key:\n",
    "            result += f\"{key} 일 확률은 : {label['Confidence']:.2f}% 입니다.\\n\"\n",
    "            is_checked = True\n",
    "            break\n",
    "            \n",
    "    if len(response['Labels']) == 0 :\n",
    "        return \"잘못된 이미지 입니다.\"\n",
    "    elif is_checked == True:\n",
    "        return result\n",
    "    else:\n",
    "        return f\"{key}이(가) 아닙니다.\"\n",
    "\n",
    "def main():\n",
    "    photo='imgs/cat.jpeg'\n",
    "\n",
    "    label_count = detect_is_label(photo,\"Dog\")\n",
    "    print(label_count)\n",
    "\n",
    "\n",
    "if __name__ == \"__main__\":\n",
    "    main()"
   ]
  },
  {
   "cell_type": "code",
   "execution_count": 4,
   "id": "ec0440b1-d906-4898-8201-26795dcc7dad",
   "metadata": {},
   "outputs": [],
   "source": [
    "class Rekognition:\n",
    "    def compare_faces(self, sourceFile, targetFile):\n",
    "\n",
    "        client = boto3.client('rekognition')\n",
    "    \n",
    "        imageSource = open(sourceFile, 'rb')\n",
    "        imageTarget = open(targetFile, 'rb')\n",
    "    \n",
    "        response = client.compare_faces(SimilarityThreshold=0,\n",
    "                                        SourceImage={'Bytes': imageSource.read()},\n",
    "                                        TargetImage={'Bytes': imageTarget.read()})\n",
    "    \n",
    "        result = \"\"\n",
    "        for faceMatch in response['FaceMatches']:\n",
    "            position = faceMatch['Face']['BoundingBox']\n",
    "    \n",
    "            result = f\"동일 인물일 확률 :{faceMatch['Similarity'] : .2f}%\"\n",
    "        imageSource.close()\n",
    "        imageTarget.close()\n",
    "        if len(response['FaceMatches']) == 0:\n",
    "            return \"얼굴을 인식할 수 없습니다\"\n",
    "        else:\n",
    "            return result\n",
    "\n",
    "    def detect_faces(self, photo):\n",
    "        \n",
    "        client = boto3.client('rekognition')\n",
    "    \n",
    "        with open(photo, \"rb\") as image:\n",
    "            response = client.detect_faces(Image={'Bytes' : image.read()}, Attributes=['ALL'])\n",
    "    \n",
    "        result = \"\"\n",
    "        for faceDetail in response['FaceDetails']:\n",
    "    \n",
    "            # 성별 : 남성   (혹은 여성)\n",
    "            gender = faceDetail['Gender']['Value']\n",
    "            result += f\"성별 : {'남성' if gender == 'Male' else '여성'}\\n\"\n",
    "            # 나이 : 28(세) (24 ~ 32의 평균)\n",
    "            age = (faceDetail['AgeRange']['Low'] + faceDetail['AgeRange']['High']) // 2\n",
    "            result += f\"나이 : {age}(세)\\n\"\n",
    "            # 감정 : HAPPY\n",
    "            emotion = faceDetail['Emotions'][0]['Type']\n",
    "            result += f\"감정 : {emotion}\"\n",
    "    \n",
    "        if len(response['FaceDetails']) == 0:\n",
    "            return \"얼굴을 인식할 수 없습니다\"\n",
    "        else:\n",
    "            return result\n",
    "    \n",
    "    def recognize_celebrities(self, photo):\n",
    "        \n",
    "        client = boto3.client('rekognition')\n",
    "    \n",
    "        with open(photo, 'rb') as image:\n",
    "            response = client.recognize_celebrities(Image={'Bytes': image.read()})\n",
    "    \n",
    "        result = \"\"\n",
    "        # 닮은 연예인이 없는 경우...누가 들어도 괜찮은 사람을 닮았다고 리턴\n",
    "        celeb_list = [\"송중기\", \"아라아나 그란데\", \"아이유\", \"장원영\", \"카리나\", \"설윤\", \"송강\", \"강동원\"]\n",
    "        \n",
    "        for celebrity in response['CelebrityFaces']:\n",
    "            result = celebrity['Name']\n",
    "    \n",
    "        import random\n",
    "        \n",
    "        if len(response['CelebrityFaces']) == 0:\n",
    "            return random.choice(celeb_list)\n",
    "        else:\n",
    "            return result\n",
    "    \n",
    "    def detect_labels_local_file(self, photo):\n",
    "    \n",
    "        client=boto3.client('rekognition')\n",
    "       \n",
    "        with open(photo, 'rb') as image:\n",
    "            response = client.detect_labels(Image={'Bytes': image.read()})\n",
    "            \n",
    "        result = \"\"\n",
    "        for label in response['Labels']:\n",
    "            result += f\"{label['Name']} : {label['Confidence']:.2f}%\\n\"\n",
    "    \n",
    "        if len(response['Labels']) == 0:\n",
    "            return \"잘못된 이미지입니다\"\n",
    "        else:\n",
    "            return result\n",
    "    \n",
    "    def detect_is_label(self, photo, key):\n",
    "    \n",
    "        client=boto3.client('rekognition')\n",
    "       \n",
    "        with open(photo, 'rb') as image:\n",
    "            response = client.detect_labels(Image={'Bytes': image.read()})\n",
    "            \n",
    "        result = \"\"\n",
    "    \n",
    "        is_checked = False\n",
    "        \n",
    "        for label in response['Labels']:\n",
    "            if label['Name'] == key:\n",
    "                result += f\"{key}일 확률은 {label['Confidence']:.2f}%입니다\\n\"\n",
    "                is_checked = True\n",
    "                break\n",
    "    \n",
    "        if len(response['Labels']) == 0:\n",
    "            return \"잘못된 이미지입니다\"\n",
    "        elif is_checked == True:\n",
    "            return result\n",
    "        else:\n",
    "            return f\"{key}이(가) 아닙니다\""
   ]
  },
  {
   "cell_type": "code",
   "execution_count": 2,
   "id": "66f9e071-6def-40d5-9450-8a826f014c89",
   "metadata": {},
   "outputs": [
    {
     "name": "stdout",
     "output_type": "stream",
     "text": [
      "Cat일 확률은 99.70%입니다\n",
      "\n"
     ]
    }
   ],
   "source": [
    "# 이 사진이 고양이 사진인지 판별\n",
    "from aws import detect_is_label\n",
    "result = detect_is_label(\"imgs/cat.jpeg\",\"Cat\")\n",
    "print(result)"
   ]
  },
  {
   "cell_type": "code",
   "execution_count": null,
   "id": "4242ce66-a4c8-4079-9441-2cde04fe0d26",
   "metadata": {},
   "outputs": [],
   "source": [
    "# API KEY\n",
    "# 특정 서버에 GET방식으로 Client가 요청 (request) \n",
    "# Server가 응답 (response)"
   ]
  },
  {
   "cell_type": "code",
   "execution_count": 6,
   "id": "05e04992-2fa2-4142-addc-ca3f839aa43e",
   "metadata": {
    "collapsed": true,
    "jupyter": {
     "outputs_hidden": true
    }
   },
   "outputs": [
    {
     "name": "stdout",
     "output_type": "stream",
     "text": [
      " * Serving Flask app '__main__'\n",
      " * Debug mode: off\n"
     ]
    },
    {
     "name": "stderr",
     "output_type": "stream",
     "text": [
      "WARNING: This is a development server. Do not use it in a production deployment. Use a production WSGI server instead.\n",
      " * Running on all addresses (0.0.0.0)\n",
      " * Running on http://127.0.0.1:5000\n",
      " * Running on http://10.10.141.4:5000\n",
      "Press CTRL+C to quit\n",
      "10.10.141.249 - - [17/Sep/2025 10:57:38] \"GET / HTTP/1.1\" 200 -\n",
      "10.10.141.4 - - [17/Sep/2025 11:48:02] \"GET / HTTP/1.1\" 200 -\n",
      "10.10.141.4 - - [17/Sep/2025 11:48:02] \"GET /favicon.ico HTTP/1.1\" 404 -\n",
      "127.0.0.1 - - [17/Sep/2025 11:48:05] \"GET / HTTP/1.1\" 200 -\n"
     ]
    }
   ],
   "source": [
    " # 127.0.0.1은 IPv4 주소이다\n",
    "    # IP란 Server가 어디에 있는지 알려주는 주소\n",
    "    # 네이버 서버 -> 25.50.127.255 라면 이대로 치면 네이버로 연결\n",
    "    # 영문명(도메인) -> IPv4 변환\n",
    "    # 나중에 서버를 운영하려면, 서버IP구매 + 도메인도 구매\n",
    "    # 127.0.0.1 (Localhost) -> \"나\"를 가르킴\n",
    "    # 누군가가 나를 바라보게 하고싶다 ? 공개 IP가 필요\n",
    "    # 공개 IPv4는 2의32승 -> 42~3억개만 전 세계에 존재\n",
    "\n",
    "    # 개인(Private) IPv4를 통해 다른사람 서버를 바라보자\n",
    "    # 같은 인터넷망(공유기)에서는 개인 IPv4를 바라볼 수 있음\n",
    "    \n",
    "\n",
    "# 파이썬에서 구성되는 웹  프레임 워크 : Flask , Django\n",
    "# 1) Flask : 마이크로 웹 프레임워크\n",
    "from flask import Flask # 서버를 라우팅, 구동하는 클래스\n",
    "app = Flask(__name__)\n",
    "@app.route(\"/\")\n",
    "def index():\n",
    "    return \"<h1>이현의 웹 페이지</h1>\"\n",
    "if __name__ ==\"__main__\":\n",
    "    #host= \"0.0.0.0\": 누구나 내 서버에 접속 가능\n",
    "    app.run(host=\"0.0.0.0\")\n",
    "\n",
    "#IPv4/8bit(0~255)"
   ]
  },
  {
   "cell_type": "code",
   "execution_count": 7,
   "id": "08a5ed19-1478-4a39-bcda-e22a4f8d7996",
   "metadata": {},
   "outputs": [],
   "source": [
    "!pip list | findstr \"flask\""
   ]
  },
  {
   "cell_type": "code",
   "execution_count": null,
   "id": "12fa30ad-fe0e-4c31-b137-8942ae4341c7",
   "metadata": {},
   "outputs": [],
   "source": [
    "! pip install flask"
   ]
  },
  {
   "cell_type": "code",
   "execution_count": 8,
   "id": "e311011b-155d-4caa-b59c-c7dbe902a332",
   "metadata": {},
   "outputs": [],
   "source": [
    "# window powershell\n",
    "# sudo passwd root 1234\n",
    "# sudo apt-get update\n",
    "# sudo apt-get upgrade\n",
    "# sudo apt-get python3.9\n",
    "# sudo apt-get python3-pip\n",
    "# pip install flask"
   ]
  },
  {
   "cell_type": "code",
   "execution_count": null,
   "id": "02ed14d9-23dd-4842-838f-ebcd95194a2d",
   "metadata": {},
   "outputs": [],
   "source": []
  },
  {
   "cell_type": "code",
   "execution_count": null,
   "id": "277bd559-3450-45ab-b482-af4ee0337b40",
   "metadata": {},
   "outputs": [],
   "source": []
  },
  {
   "cell_type": "code",
   "execution_count": null,
   "id": "4f33d9f7-e36f-48f2-ac61-f68aafd2ee28",
   "metadata": {},
   "outputs": [],
   "source": []
  },
  {
   "cell_type": "code",
   "execution_count": null,
   "id": "fa601e5e-eb61-42c8-9f5f-3a74a7339f8f",
   "metadata": {},
   "outputs": [],
   "source": []
  },
  {
   "cell_type": "code",
   "execution_count": null,
   "id": "d9031a74-cef8-495e-a5f5-faf9385a34e1",
   "metadata": {},
   "outputs": [],
   "source": []
  },
  {
   "cell_type": "code",
   "execution_count": null,
   "id": "cc72433b-810d-4217-a2df-4cfe1ab4457f",
   "metadata": {},
   "outputs": [],
   "source": []
  },
  {
   "cell_type": "code",
   "execution_count": null,
   "id": "e9bd77f8-9f3e-4aa5-b21e-8256f5c6c924",
   "metadata": {},
   "outputs": [],
   "source": []
  },
  {
   "cell_type": "code",
   "execution_count": null,
   "id": "5665fca5-9270-4d64-ba78-a6f289d21bc1",
   "metadata": {},
   "outputs": [],
   "source": []
  },
  {
   "cell_type": "code",
   "execution_count": null,
   "id": "d0a2d001-fab8-47a9-a0e6-97cdd75c80dc",
   "metadata": {},
   "outputs": [],
   "source": []
  },
  {
   "cell_type": "code",
   "execution_count": null,
   "id": "bf276f94-14ca-4638-84bd-b85f1374f0ec",
   "metadata": {},
   "outputs": [],
   "source": []
  },
  {
   "cell_type": "code",
   "execution_count": null,
   "id": "553443e5-1c17-4d5b-9cbd-b5be6f065d75",
   "metadata": {},
   "outputs": [],
   "source": []
  },
  {
   "cell_type": "code",
   "execution_count": null,
   "id": "a0465ba7-840b-4076-9b0d-07429adb0c10",
   "metadata": {},
   "outputs": [],
   "source": []
  },
  {
   "cell_type": "code",
   "execution_count": null,
   "id": "f7fa17a4-94c5-45c4-bab0-c1f99d501837",
   "metadata": {},
   "outputs": [],
   "source": []
  },
  {
   "cell_type": "code",
   "execution_count": null,
   "id": "7eae20c5-6032-4953-8252-127b2fba1e5b",
   "metadata": {},
   "outputs": [],
   "source": []
  },
  {
   "cell_type": "code",
   "execution_count": null,
   "id": "cf7418df-5a57-4fad-8f9c-58c889c70dba",
   "metadata": {},
   "outputs": [],
   "source": []
  },
  {
   "cell_type": "code",
   "execution_count": null,
   "id": "6b888343-521c-4f10-9dd7-cf760c059c2e",
   "metadata": {},
   "outputs": [],
   "source": []
  },
  {
   "cell_type": "code",
   "execution_count": null,
   "id": "8563a00e-2543-49d4-ae3b-5f905a2a1233",
   "metadata": {},
   "outputs": [],
   "source": []
  },
  {
   "cell_type": "code",
   "execution_count": null,
   "id": "166e8533-d97f-40c9-87b7-86d7580916e0",
   "metadata": {},
   "outputs": [],
   "source": []
  },
  {
   "cell_type": "code",
   "execution_count": null,
   "id": "d379c821-f475-40e8-b43f-1f47ac6c79df",
   "metadata": {},
   "outputs": [],
   "source": []
  },
  {
   "cell_type": "code",
   "execution_count": null,
   "id": "70070817-9116-4f64-b18d-3fe17798181e",
   "metadata": {},
   "outputs": [],
   "source": []
  },
  {
   "cell_type": "code",
   "execution_count": null,
   "id": "2e4bd18c-b742-4f18-99f3-4b10ed688f07",
   "metadata": {},
   "outputs": [],
   "source": []
  },
  {
   "cell_type": "code",
   "execution_count": null,
   "id": "266d31d5-b099-4c97-a7e5-d9e9613cd1d0",
   "metadata": {},
   "outputs": [],
   "source": []
  },
  {
   "cell_type": "code",
   "execution_count": null,
   "id": "46a1885b-3f8b-488b-bbce-ce37dbb3185c",
   "metadata": {},
   "outputs": [],
   "source": []
  },
  {
   "cell_type": "code",
   "execution_count": null,
   "id": "25d1aeed-8160-4389-94aa-bf63fab052aa",
   "metadata": {},
   "outputs": [],
   "source": []
  },
  {
   "cell_type": "code",
   "execution_count": null,
   "id": "64f9419a-872e-47c8-8702-d35a78ea0990",
   "metadata": {},
   "outputs": [],
   "source": []
  },
  {
   "cell_type": "code",
   "execution_count": null,
   "id": "5ba40b2f-e729-4d6a-a179-853e7025c886",
   "metadata": {},
   "outputs": [],
   "source": []
  },
  {
   "cell_type": "code",
   "execution_count": null,
   "id": "eda34c72-242b-4ad9-984f-9daff57db515",
   "metadata": {},
   "outputs": [],
   "source": []
  },
  {
   "cell_type": "code",
   "execution_count": null,
   "id": "c010d129-1332-4e4b-9118-e94968455db6",
   "metadata": {},
   "outputs": [],
   "source": []
  }
 ],
 "metadata": {
  "kernelspec": {
   "display_name": "Python 3 (ipykernel)",
   "language": "python",
   "name": "python3"
  },
  "language_info": {
   "codemirror_mode": {
    "name": "ipython",
    "version": 3
   },
   "file_extension": ".py",
   "mimetype": "text/x-python",
   "name": "python",
   "nbconvert_exporter": "python",
   "pygments_lexer": "ipython3",
   "version": "3.12.11"
  }
 },
 "nbformat": 4,
 "nbformat_minor": 5
}
