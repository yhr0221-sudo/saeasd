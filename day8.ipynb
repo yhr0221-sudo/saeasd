{
 "cells": [
  {
   "cell_type": "code",
   "execution_count": null,
   "id": "9e22743e-7ee5-4ffd-b297-c3eef1df07c3",
   "metadata": {},
   "outputs": [],
   "source": [
    "!pip install pyqt5"
   ]
  },
  {
   "cell_type": "code",
   "execution_count": null,
   "id": "617670aa-ab18-40f6-820f-3528eef5bb25",
   "metadata": {},
   "outputs": [],
   "source": [
    " # 나만의 어플리케이션 만들어 보자\n",
    "from PyQt5.QtWidgets import QApplication, QWidget\n",
    "import sys # 해당 App 을 우리 윈도우에 띄우기 위해\n",
    "\n",
    "# 처음부터 구현하지 않고 QWidget 상속 받아서 만듬 \n",
    "class MyApp(QWidget):\n",
    "    def __init__(self):\n",
    "        # 부모 안에 있는 field(member변수) 가져다 쓰기\n",
    "        super().__init__()\n",
    "        self.initUI()\n",
    "        # MyApp을 호출하면 __init__이 호출 > initUI가 호출\n",
    "# 초기 화면 구성\n",
    "    def initUI(self):\n",
    "        self.setWindowTitle(\"exam01\")\n",
    "        self.move(1000,500)\n",
    "        self.resize(400,200) # width * height (pixel 단위)\n",
    "        self.show()\n",
    "\n",
    "if __name__ ==\"__main__\":\n",
    "    #내가 직접 실행했을 때만 실행되는 부분\n",
    "    #외부에서 import했을 때 나타나지 않았으면 하는 코드를 이런식으로 씀\n",
    "    app = QApplication.instance() \n",
    "    # 현재 동작하고 있는 App을 띄우기 위한 인스턴스가 있는지 여부. 이미 있으면 그걸 띄우고 없으면 None 이됨\n",
    "    if app is None:\n",
    "        app = QApplication(sys.argv) # 윈도우 시스템에 띄우기 위한 코드\n",
    "    exam = MyApp()\n",
    "    sys.exit(app.exec_()) #윈도우 창이 꺼지면 app 도 같이 끄는 기능  "
   ]
  },
  {
   "cell_type": "code",
   "execution_count": null,
   "id": "5c4cf318-2b37-4a8d-b488-329b670c15b0",
   "metadata": {},
   "outputs": [],
   "source": [
    "from PyQt5.QtWidgets import QApplication, QWidget, QPushButton\n",
    "import sys\n",
    "\n",
    "class MyApp(QWidget):\n",
    "    def __init__(self):\n",
    "        super().__init__()\n",
    "        self.initUI()\n",
    "\n",
    "    # 초기화면 구성\n",
    "    def initUI(self):\n",
    "        self.setWindowTitle(\"exam02\")\n",
    "        self.setGeometry(1000,500,400,200) # move, resize 한 번에\n",
    "        button = QPushButton(\"눌러봐\",self)  # (문구, 해당 위젯이 어느 부모에 속해있는지) #가장 바깥이라 self\n",
    "        button.move(50,70) # 좌상단 기준\n",
    "        button.resize(100,50)\n",
    "        button.resize(button.sizeHint()) # sizeHint버튼의 사이즈를 알아서 추천해줌\n",
    "        self.show()\n",
    "        # 버튼을 눌렀을 때 실행되는 함수 정의\n",
    "        def set_color():\n",
    "            self.setStyleSheet(\"background-color: #FF0000\")\n",
    "            # button.setText(\"바보\")\n",
    "            \n",
    "       # # 이렇게 정의된 함수는 한 번만 쓰이니까 정의하지말고 바로 쓰지 -> lambda expression\n",
    "       # # df.apply(타이타닉 sex female -> 0,1 에서 썼었음\n",
    "        \n",
    "        \n",
    "        #버튼에 해당 행동을 연결\n",
    "       # button.clicked.connect(set_color)\n",
    "\n",
    "        # 버튼의 상태 감지\n",
    "        # clicked() 눌렀다 뗌\n",
    "        # pressed() 누름\n",
    "        # released() 뗌\n",
    "        button.pressed.connect(lambda : self.setStyleSheet(\"background-color: #F86796\"))\n",
    "        button.released.connect(lambda : self.setStyleSheet(\"background-color: #0000FF\"))\n",
    "\n",
    "if __name__ == \"__main__\":\n",
    "    app = QApplication.instance()\n",
    "    if app is None:\n",
    "        app = QApplication(sys.argv)\n",
    "    exam = MyApp()\n",
    "    sys.exit(app.exec_())"
   ]
  },
  {
   "cell_type": "code",
   "execution_count": null,
   "id": "556c80b6-6ada-4c31-9dba-60af96e2e362",
   "metadata": {},
   "outputs": [],
   "source": [
    "import exam\n",
    "# import를 하면 메모리에 해당 python 파일이 로드\n",
    "# 코드가 처음부터 끝까지 한 번 실행됨."
   ]
  },
  {
   "cell_type": "code",
   "execution_count": null,
   "id": "b510c965-80cf-4532-b261-62846c03e25c",
   "metadata": {},
   "outputs": [],
   "source": [
    "from exam import Cal # 실행하면 def Cal 부분만 실행됨"
   ]
  },
  {
   "cell_type": "code",
   "execution_count": null,
   "id": "02d17c4c-8e93-45df-86d1-39b070f3b008",
   "metadata": {},
   "outputs": [],
   "source": [
    "from exam import print_add # 실행하면 def print_add 부분만 실행됨"
   ]
  },
  {
   "cell_type": "code",
   "execution_count": null,
   "id": "d65f72dd-ab2b-4080-858f-e6db7562e125",
   "metadata": {},
   "outputs": [],
   "source": [
    "from PyQt5.QtWidgets import (\n",
    "                        QApplication, QWidget, QLineEdit, QPushButton, QLabel,\n",
    "                        QRadioButton, QCheckBox, QVBoxLayout, QHBoxLayout\n",
    ")\n",
    "import sys\n",
    "\n",
    "class MyApp(QWidget):\n",
    "    def __init__(self):\n",
    "        super().__init__()\n",
    "        self.initUI()\n",
    "\n",
    "    # 초기화면 구성\n",
    "    def initUI(self):\n",
    "        self.setWindowTitle(\"exam03\")\n",
    "        self.setGeometry(1000,500,400,200) # x위치 ,y위치, x크기, y크기\n",
    "        \n",
    "        qle_id = QLineEdit(self)\n",
    "        qle_pw = QLineEdit(self)\n",
    "\n",
    "        \n",
    "        btn_login = QPushButton(\"로그인\",self)\n",
    "        \n",
    "        qle_id.setGeometry(50,50,200,25)\n",
    "        qle_id.setPlaceholderText(\"ID를 입력하세요\")\n",
    "        qle_pw.setGeometry(50,100,200,25)\n",
    "        qle_pw.setPlaceholderText(\"PW를 입력하세요\")\n",
    "        qle_pw.setEchoMode(QLineEdit.Password)\n",
    "        btn_login.setGeometry(200,150,100,25)\n",
    "\n",
    "        def login():\n",
    "            # qle_id 에 있는 문자열 정보 받아오고\n",
    "            # qle_pw 에 있는 문자열 가져오고\n",
    "            login_id = qle_id.text()\n",
    "            login_pw = qle_pw.text()\n",
    "            if login_id ==\"yhr\" and login_pw == \"0221\":\n",
    "                self.setStyleSheet(\"background-color: #00FF00\")\n",
    "            else:\n",
    "                self.setStyleSheet(\"background-color: #FF0000\")\n",
    "        btn_login.clicked.connect(login)\n",
    "        self.show()\n",
    "\n",
    "if __name__ == \"__main__\":\n",
    "    app = QApplication.instance()\n",
    "    if app is None:\n",
    "        app = QApplication(sys.argv)\n",
    "    exam = MyApp()\n",
    "    sys.exit(app.exec_())"
   ]
  },
  {
   "cell_type": "code",
   "execution_count": null,
   "id": "b627f719-53ab-4611-90fa-0a362af42d42",
   "metadata": {},
   "outputs": [],
   "source": [
    "# 배포하는 방법"
   ]
  },
  {
   "cell_type": "code",
   "execution_count": null,
   "id": "41a0aedf-35ae-403d-bd48-6efd689f644d",
   "metadata": {},
   "outputs": [],
   "source": [
    "!pyinstaller --onefile game.py"
   ]
  },
  {
   "cell_type": "code",
   "execution_count": null,
   "id": "e59b570c-54ac-4dbb-acf3-b1410e8c082f",
   "metadata": {},
   "outputs": [],
   "source": [
    "!pip install pyinstaller"
   ]
  },
  {
   "cell_type": "code",
   "execution_count": null,
   "id": "44b36fa6-dda7-4852-96d9-38e350fbe1d1",
   "metadata": {},
   "outputs": [],
   "source": [
    "from PyQt5.QtCore import Qt\n",
    "from PyQt5.QtWidgets import (\n",
    "                        QApplication, QWidget, QLineEdit, QPushButton, QLabel,\n",
    "                        QRadioButton, QCheckBox, QVBoxLayout, QHBoxLayout\n",
    ")\n",
    "from PyQt5.QtGui import QPixmap\n",
    "import sys\n",
    "\n",
    "class MyApp(QWidget):\n",
    "    def __init__(self):\n",
    "        super().__init__()\n",
    "        self.initUI()\n",
    "\n",
    "    # 초기화면 구성\n",
    "    def initUI(self):\n",
    "        self.setWindowTitle(\"exam04\")\n",
    "        self.setGeometry(800, 300, 400, 600) # move, resize 한 번에\n",
    "        # 수직 Box\n",
    "        # - 위젯\n",
    "        # - 수평 Box\n",
    "        # -- 버튼1, 버튼2\n",
    "        vbox = QVBoxLayout()\n",
    "        vbox.addStretch(1) # 위아래 간격 주는 것\n",
    "        self.ql = QLabel(\"연습\",alignment=Qt.AlignCenter)\n",
    "        # 이미지 로드(jpg,jpeg,png 해당 확장자)\n",
    "        self.idx = 0\n",
    "        path = f\"imgs/img{self.idx + 1}.jpg\"\n",
    "        qpm = QPixmap(path)\n",
    "        qpm = qpm.scaled(400,400)\n",
    "        self.ql.setPixmap(qpm)\n",
    "        # 버튼 눌렀을 때 동작하는 함수\n",
    "        def next_img():\n",
    "            self.idx += 1\n",
    "            if self.idx >= 5:\n",
    "                self.idx = 0                \n",
    "            path = f\"imgs/img{self.idx + 1}.jpg\"\n",
    "            qpm = QPixmap(path)\n",
    "            qpm = qpm.scaled(400,400)\n",
    "            self.ql.setPixmap(qpm)\n",
    "\n",
    "        def prev_img():\n",
    "            self.idx -= 1\n",
    "            if self.idx < 0:\n",
    "                self.idx = 4\n",
    "            path = f\"imgs/img{self.idx + 1}.jpg\"\n",
    "            qpm = QPixmap(path)\n",
    "            qpm = qpm.scaled(400,400)\n",
    "            self.ql.setPixmap(qpm)\n",
    "       \n",
    "        vbox.addWidget(self.ql)\n",
    "        vbox.addStretch(1)\n",
    "\n",
    "        hbox= QHBoxLayout()\n",
    "        btn1 = QPushButton(\"<\")\n",
    "        btn1.setStyleSheet(\"background-color: #FF0000\") # 버튼 색 바꾸기\n",
    "        btn2 = QPushButton(\">\")\n",
    "        btn2.setStyleSheet(\"background-color: #00FF00\")\n",
    "        \n",
    "        btn1.clicked.connect(prev_img)\n",
    "        btn2.clicked.connect(next_img)\n",
    "        \n",
    "        hbox.setSpacing(40) #버튼 사이 간격\n",
    "        hbox.addStretch(1)\n",
    "        hbox.addWidget(btn1)\n",
    "        hbox.addWidget(btn2)\n",
    "        hbox.addStretch(1)\n",
    "\n",
    "        vbox.addLayout(hbox)\n",
    "        vbox.addStretch(1)\n",
    "        \n",
    "        self.setLayout(vbox)\n",
    "        self.show()\n",
    "\n",
    "if __name__ == \"__main__\":\n",
    "    app = QApplication.instance()\n",
    "    if app is None:\n",
    "        app = QApplication(sys.argv)\n",
    "    exam = MyApp()\n",
    "    sys.exit(app.exec_())"
   ]
  },
  {
   "cell_type": "code",
   "execution_count": null,
   "id": "9fc89c57-c792-4580-b3fb-ea0e91091af3",
   "metadata": {},
   "outputs": [],
   "source": []
  },
  {
   "cell_type": "code",
   "execution_count": null,
   "id": "248b4bdd-53be-4f40-9ded-53181744823e",
   "metadata": {},
   "outputs": [],
   "source": []
  },
  {
   "cell_type": "code",
   "execution_count": null,
   "id": "c9b628d2-3f10-4745-af7d-08abeb5e6ac9",
   "metadata": {},
   "outputs": [],
   "source": []
  },
  {
   "cell_type": "code",
   "execution_count": null,
   "id": "77d42563-4070-4a50-af41-2f4a95830334",
   "metadata": {},
   "outputs": [],
   "source": []
  },
  {
   "cell_type": "code",
   "execution_count": null,
   "id": "85fb0fe7-7c10-4d48-9afe-1f8564d0ca83",
   "metadata": {},
   "outputs": [],
   "source": []
  },
  {
   "cell_type": "code",
   "execution_count": null,
   "id": "42c4c499-242a-4136-876d-3145b73ae86f",
   "metadata": {},
   "outputs": [],
   "source": []
  },
  {
   "cell_type": "code",
   "execution_count": null,
   "id": "94afa2ff-d18d-44c9-b70e-e81946182ec2",
   "metadata": {},
   "outputs": [],
   "source": []
  },
  {
   "cell_type": "code",
   "execution_count": null,
   "id": "76442de4-2fcf-439f-a64c-6394fa01e4bf",
   "metadata": {},
   "outputs": [],
   "source": []
  },
  {
   "cell_type": "code",
   "execution_count": null,
   "id": "2d57b51c-5975-483a-92d5-cf572aafaf2e",
   "metadata": {},
   "outputs": [],
   "source": []
  },
  {
   "cell_type": "code",
   "execution_count": null,
   "id": "7da41abb-00d8-47a9-ac32-aa30adf765b5",
   "metadata": {},
   "outputs": [],
   "source": []
  },
  {
   "cell_type": "code",
   "execution_count": null,
   "id": "f1941dee-3e0b-42f5-b352-aa65c9d0973f",
   "metadata": {},
   "outputs": [],
   "source": []
  },
  {
   "cell_type": "code",
   "execution_count": null,
   "id": "935351c2-4085-47c7-91a5-ea43e091e903",
   "metadata": {},
   "outputs": [],
   "source": []
  },
  {
   "cell_type": "code",
   "execution_count": null,
   "id": "1d900246-3414-4636-87a8-e11ad8e6c8df",
   "metadata": {},
   "outputs": [],
   "source": []
  },
  {
   "cell_type": "code",
   "execution_count": null,
   "id": "4ef03c0e-dcf4-44fb-aa04-ab9fb500fcc7",
   "metadata": {},
   "outputs": [],
   "source": []
  },
  {
   "cell_type": "code",
   "execution_count": null,
   "id": "b0bda80e-3010-44b4-af20-e26ebf521954",
   "metadata": {},
   "outputs": [],
   "source": []
  },
  {
   "cell_type": "code",
   "execution_count": null,
   "id": "3606ff44-ac0a-40db-8194-aab99d5fcada",
   "metadata": {},
   "outputs": [],
   "source": []
  },
  {
   "cell_type": "code",
   "execution_count": null,
   "id": "75d833c5-5cac-49ff-b543-4ba88e6098fd",
   "metadata": {},
   "outputs": [],
   "source": []
  },
  {
   "cell_type": "code",
   "execution_count": null,
   "id": "70454443-f456-450d-8a50-e251d99d1251",
   "metadata": {},
   "outputs": [],
   "source": []
  },
  {
   "cell_type": "code",
   "execution_count": null,
   "id": "91d9484a-638f-4b45-974e-1cfc0cdcc91d",
   "metadata": {},
   "outputs": [],
   "source": []
  },
  {
   "cell_type": "code",
   "execution_count": null,
   "id": "4dab3587-ed81-4be0-b2ed-c5bcaccbc739",
   "metadata": {},
   "outputs": [],
   "source": []
  },
  {
   "cell_type": "code",
   "execution_count": null,
   "id": "de21a21f-ce66-4eaf-af0e-4d95a16f3101",
   "metadata": {},
   "outputs": [],
   "source": []
  },
  {
   "cell_type": "code",
   "execution_count": null,
   "id": "78b785cf-95e4-427f-bba3-0c766e2f4c8c",
   "metadata": {},
   "outputs": [],
   "source": []
  },
  {
   "cell_type": "code",
   "execution_count": null,
   "id": "76609377-e73e-4b2e-9557-ea69b3a4512f",
   "metadata": {},
   "outputs": [],
   "source": []
  },
  {
   "cell_type": "code",
   "execution_count": null,
   "id": "b111322e-1c04-4f1f-be37-dff453d94d9b",
   "metadata": {},
   "outputs": [],
   "source": []
  },
  {
   "cell_type": "code",
   "execution_count": null,
   "id": "56fb2cad-882b-49eb-8407-d348e0cd5810",
   "metadata": {},
   "outputs": [],
   "source": []
  },
  {
   "cell_type": "code",
   "execution_count": null,
   "id": "ca21ad64-a02b-4eb3-b6a1-748933de9e52",
   "metadata": {},
   "outputs": [],
   "source": []
  },
  {
   "cell_type": "code",
   "execution_count": null,
   "id": "65b2a884-6eb1-4b60-857e-29534ec5f606",
   "metadata": {},
   "outputs": [],
   "source": []
  },
  {
   "cell_type": "code",
   "execution_count": null,
   "id": "8f753620-8da2-4c02-911d-6493ae9c0ef8",
   "metadata": {},
   "outputs": [],
   "source": []
  },
  {
   "cell_type": "code",
   "execution_count": null,
   "id": "602bbed1-895b-40d0-974c-2dae7805ba52",
   "metadata": {},
   "outputs": [],
   "source": []
  },
  {
   "cell_type": "code",
   "execution_count": null,
   "id": "d1fc98a1-aa35-4222-a48c-9cbffece914e",
   "metadata": {},
   "outputs": [],
   "source": []
  },
  {
   "cell_type": "code",
   "execution_count": null,
   "id": "c8589e10-e7b4-4f15-9af8-d3d77a0d9c96",
   "metadata": {},
   "outputs": [],
   "source": []
  },
  {
   "cell_type": "code",
   "execution_count": null,
   "id": "25f97ddf-ec4f-47df-b8b6-ff574b12c257",
   "metadata": {},
   "outputs": [],
   "source": []
  },
  {
   "cell_type": "code",
   "execution_count": null,
   "id": "c4bc31da-dbc4-496c-a614-37097126a044",
   "metadata": {},
   "outputs": [],
   "source": []
  }
 ],
 "metadata": {
  "kernelspec": {
   "display_name": "Python 3 (ipykernel)",
   "language": "python",
   "name": "python3"
  },
  "language_info": {
   "codemirror_mode": {
    "name": "ipython",
    "version": 3
   },
   "file_extension": ".py",
   "mimetype": "text/x-python",
   "name": "python",
   "nbconvert_exporter": "python",
   "pygments_lexer": "ipython3",
   "version": "3.9.23"
  }
 },
 "nbformat": 4,
 "nbformat_minor": 5
}
