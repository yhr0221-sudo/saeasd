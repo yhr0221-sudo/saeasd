{
 "cells": [
  {
   "cell_type": "code",
   "execution_count": null,
   "id": "b5bc02f6-540e-4c92-9759-f67826ac7a49",
   "metadata": {},
   "outputs": [],
   "source": [
    "# 붓꽃 데이터를 Tensorflow 말고 Pytorch 에서 학습 해보기"
   ]
  },
  {
   "cell_type": "code",
   "execution_count": null,
   "id": "35d2435b-5813-49b9-a7ee-fc810460d8e8",
   "metadata": {},
   "outputs": [],
   "source": [
    "# !pip install tqdm \n",
    "# tqdm 실행 안되면 설치"
   ]
  },
  {
   "cell_type": "code",
   "execution_count": null,
   "id": "6e77e349-38d2-4ff6-86f2-924334d15497",
   "metadata": {},
   "outputs": [],
   "source": [
    "# 교재 p9\n",
    "!git clone https://github.com/jetsonai/DeepLearning4Projects.git"
   ]
  },
  {
   "cell_type": "code",
   "execution_count": 1,
   "id": "75b6409f-657d-400c-ba24-84d84e689a1e",
   "metadata": {},
   "outputs": [],
   "source": [
    "import torch # 텐서 생성, 연산\n",
    "import torch.nn as nn # 신경망(Neural Network)의 층(layer) 관련 라이브러리\n",
    "import torch.optim as optim # 최적화 알고리즘\n",
    "from torch.utils.data import DataLoader, TensorDataset # TensorDataset -> X,y를 텐서 형태로 나누기\n",
    "\n",
    "import pandas as pd\n",
    "from sklearn.preprocessing import LabelEncoder # label 전처리 하자 \n",
    "from tqdm.notebook import tqdm  #에포크 상황 확인하기"
   ]
  },
  {
   "cell_type": "code",
   "execution_count": 2,
   "id": "f7f4ca52-daab-4bb4-a78d-f141ed25cfea",
   "metadata": {},
   "outputs": [],
   "source": [
    "# 데이터 준비 과정 (전처리 + 텐서형태로 데이터 가공)\n",
    "\n",
    "df = pd.read_csv(\"robot/data/iris3.csv\")\n",
    "# 0 ~ 4 미만 까지 X, \n",
    "# 4번 인덱스 y\n",
    "X = df.iloc[:,:4].values #df형태를 tensor로 변환하기 용이하게 ndarray로 변환\n",
    "y = df.iloc[:, 4].values\n",
    "\n",
    "# label들이 Iris-setosa와 같은 형식으로 클래스 이름으로 되어있기 때문에 \n",
    "#  -> 0,1,2 등 숫자형태로 label을 변환할 필요가 있음\n",
    "# why? Pytorch는 정수나 숫자만 연산이 가능함.\n",
    "label_encoder = LabelEncoder()\n",
    "y_encoded = label_encoder.fit_transform(y)\n",
    "# ndarray 형태의 X를 Pytorch에서 사용하기 위해 텐서 형태로 변환\n",
    "X_tensor = torch.tensor(X,dtype=torch.float32)\n",
    "y_tensor = torch.tensor(y_encoded, dtype=torch.long)"
   ]
  },
  {
   "cell_type": "code",
   "execution_count": 3,
   "id": "836b4f06-07db-4f28-a94f-1f94bdeee855",
   "metadata": {},
   "outputs": [],
   "source": [
    "# 모델 정의\n",
    "\n",
    "class IrisModel(nn.Module):\n",
    "    def __init__(self):\n",
    "        super().__init__()\n",
    "        self.layer_1 = nn.Linear(4,12)\n",
    "        self.layer_2 = nn.Linear(12,8)\n",
    "        self.layer_3 = nn.Linear(8,3)\n",
    "  \n",
    "    # 순전파    \n",
    "    def forward(self,X):\n",
    "        # 1) input 4 -> output 12\n",
    "        # 1-1) 활성화 함수 relu\n",
    "        # 2) input 12 -> output 8\n",
    "        # 2-1) 활성화 함수 relu\n",
    "        # 3) input 8 -> output 3\n",
    "        X = torch.relu(self.layer_1(X))\n",
    "        X = torch.relu(self.layer_2(X))\n",
    "        X = self.layer_3(X)\n",
    "        return X "
   ]
  },
  {
   "cell_type": "code",
   "execution_count": null,
   "id": "7c6a315d-ea6d-4b47-a7bb-7fe751c33cef",
   "metadata": {},
   "outputs": [],
   "source": [
    "# tensorflow 경우 모델정의\n",
    "# from tensorflow.keras.models import Sequential\n",
    "# from tensorflow.keras.layers import Dense\n",
    "# model = Sequential()\n",
    "# model.add(Dense(12, input_dim=4, activation =\"relu\"))\n",
    "# model.add(Dense(8,activation = \"relu\"))\n",
    "# model.add(Dense(3,activation = \"softmax\"))\n",
    "# model.summary()"
   ]
  },
  {
   "cell_type": "code",
   "execution_count": 4,
   "id": "bd23c229-c235-4d8e-97c5-0ec1cc2ac460",
   "metadata": {},
   "outputs": [],
   "source": [
    "# 모델 생성\n",
    "model = IrisModel()\n",
    "# 손실 함수\n",
    "loss_fn = nn.CrossEntropyLoss() # softmax 다중분류\n",
    "# 옵티마이져\n",
    "optimizer = optim.Adam(model.parameters(), lr=0.001)\n",
    "\n",
    "# 데이터셋 -> 텐서 형식으로 변환\n",
    "dataset = TensorDataset(X_tensor,y_tensor)\n",
    "# label이 00001111222~식으로 일정하기때문에 shuffle\n",
    "dataloader = DataLoader(dataset, batch_size=5, shuffle= True)"
   ]
  },
  {
   "cell_type": "code",
   "execution_count": null,
   "id": "5d77265c-3875-4169-964f-162e28af6f04",
   "metadata": {},
   "outputs": [],
   "source": [
    "!pip install --upgrade ipywidgets"
   ]
  },
  {
   "cell_type": "code",
   "execution_count": 5,
   "id": "df496ebd-591d-4d0f-bd3f-392da5ae00bb",
   "metadata": {},
   "outputs": [
    {
     "data": {
      "application/vnd.jupyter.widget-view+json": {
       "model_id": "29bce2599557482d84732201a86e862c",
       "version_major": 2,
       "version_minor": 0
      },
      "text/plain": [
       "  0%|          | 0/30 [00:00<?, ?it/s]"
      ]
     },
     "metadata": {},
     "output_type": "display_data"
    }
   ],
   "source": [
    "# 모델 학습\n",
    "epochs = 30\n",
    "\n",
    "for epoch in tqdm(range(epochs)):\n",
    "\n",
    "    for input_data, label in dataloader:\n",
    "        #1) 기울기 0으로 초기화\n",
    "        optimizer.zero_grad()\n",
    "        #2) 모델에 input 넣어 예측 값 얻기\n",
    "        pred = model(input_data)\n",
    "        #3) 예측 값을 통해 loss 계산\n",
    "        loss = loss_fn(pred, label)\n",
    "        #4) loss를 통해 최적화 진행(역전파)\n",
    "        loss.backward()\n",
    "        #5) 가중치, 바이어스 업데이트\n",
    "        optimizer.step()    "
   ]
  },
  {
   "cell_type": "code",
   "execution_count": 6,
   "id": "e46c7a2b-1920-454b-bafd-c7b40daebf81",
   "metadata": {},
   "outputs": [
    {
     "name": "stdout",
     "output_type": "stream",
     "text": [
      "정확도 :  0.97\n"
     ]
    }
   ],
   "source": [
    "# 모델 평가 \n",
    "with torch.no_grad():\n",
    "    pred = model(X_tensor)\n",
    "    # pred.data의 클래스 중 가장 높은 값\n",
    "    _, predicted = torch.max(pred.data, 1)\n",
    "    # 전체 데이터셋의 크기\n",
    "    y_tensor.size(0)\n",
    "    # 만약 X_tensor.size(0)or(1)or(2)    \n",
    "    total = y_tensor.size(0)\n",
    "    # 예측값과 실제 값이 같은 것들을 전부 합산하여 correct에 저장\n",
    "    correct = (predicted == y_tensor).sum().item()  # item() 스칼라로 변형\n",
    "    # 정확도\n",
    "    print(f\"정확도 : {correct / total: .2f}\")"
   ]
  },
  {
   "cell_type": "code",
   "execution_count": null,
   "id": "d04522f5-23cb-4b85-b331-42c392c994e0",
   "metadata": {},
   "outputs": [],
   "source": [
    "# yolov5 사용 (p292)\n",
    "# new -> terminal\n",
    "# cd yolov5\n",
    "# pip install -r requirements.txt\n",
    "# python detect.py --source 0"
   ]
  },
  {
   "cell_type": "code",
   "execution_count": 7,
   "id": "f6615f9c-1731-49f6-b7ce-8b99d2e8a209",
   "metadata": {},
   "outputs": [
    {
     "name": "stderr",
     "output_type": "stream",
     "text": [
      "Cloning into 'yolov5'...\n"
     ]
    }
   ],
   "source": [
    "# 내일 오전에 MNIST 손글씨 -> PyTorch로 진행\n",
    "# 디바이스 설정 -> to device까지 \n",
    "# 손글씨 학습 데이터 6만개,검증 데이터 1만개\n",
    "# 오래 걸린다 -> colab으로 진행\n",
    "# 온라인에서 이미지 검색해서 이미지 자동 다운로드 하는 방법 # selenium\n",
    "\n",
    "!git clone https://github.com/ultralytics/yolov5"
   ]
  },
  {
   "cell_type": "code",
   "execution_count": null,
   "id": "9ba9ba16-37bc-4db4-bb43-e6dc6dba8340",
   "metadata": {},
   "outputs": [],
   "source": []
  },
  {
   "cell_type": "code",
   "execution_count": null,
   "id": "3bf34d51-c133-4523-b9ba-7e01fd9f4821",
   "metadata": {},
   "outputs": [],
   "source": []
  },
  {
   "cell_type": "code",
   "execution_count": null,
   "id": "9e5ace12-447e-416d-9fa8-5e99dc471ddc",
   "metadata": {},
   "outputs": [],
   "source": []
  },
  {
   "cell_type": "code",
   "execution_count": null,
   "id": "6fc4f92f-e7a7-4b82-a86c-e0ebada3b139",
   "metadata": {},
   "outputs": [],
   "source": []
  },
  {
   "cell_type": "code",
   "execution_count": null,
   "id": "466b2e9c-a88e-4aa6-85c8-7f3c768d011e",
   "metadata": {},
   "outputs": [],
   "source": []
  },
  {
   "cell_type": "code",
   "execution_count": null,
   "id": "0fe95b64-00d7-4818-993f-fdbc61d14dec",
   "metadata": {},
   "outputs": [],
   "source": []
  },
  {
   "cell_type": "code",
   "execution_count": null,
   "id": "743f77de-622d-4b34-b130-dda0f8ab30de",
   "metadata": {},
   "outputs": [],
   "source": []
  },
  {
   "cell_type": "code",
   "execution_count": null,
   "id": "a278a1ae-a683-4d53-a7c5-76231532ce6a",
   "metadata": {},
   "outputs": [],
   "source": []
  },
  {
   "cell_type": "code",
   "execution_count": null,
   "id": "f612c4b4-b32a-4b87-b238-806846d212f8",
   "metadata": {},
   "outputs": [],
   "source": []
  },
  {
   "cell_type": "code",
   "execution_count": null,
   "id": "11af6549-f1dd-48c2-a2f0-d361184324ab",
   "metadata": {},
   "outputs": [],
   "source": []
  }
 ],
 "metadata": {
  "kernelspec": {
   "display_name": "Python 3 (ipykernel)",
   "language": "python",
   "name": "python3"
  },
  "language_info": {
   "codemirror_mode": {
    "name": "ipython",
    "version": 3
   },
   "file_extension": ".py",
   "mimetype": "text/x-python",
   "name": "python",
   "nbconvert_exporter": "python",
   "pygments_lexer": "ipython3",
   "version": "3.12.11"
  }
 },
 "nbformat": 4,
 "nbformat_minor": 5
}
