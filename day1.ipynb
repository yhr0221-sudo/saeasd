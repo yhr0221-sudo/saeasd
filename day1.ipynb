{
 "cells": [
  {
   "cell_type": "markdown",
   "id": "56aaebb3-94ce-465b-a33f-add3d9538f4e",
   "metadata": {},
   "source": [
    "# 인공지능 프로그래밍"
   ]
  },
  {
   "cell_type": "code",
   "execution_count": 3,
   "id": "37d56201-6b51-4860-823f-a607c14f18fb",
   "metadata": {},
   "outputs": [
    {
     "name": "stdout",
     "output_type": "stream",
     "text": [
      "Hello World!!\n"
     ]
    }
   ],
   "source": [
    "print(\"Hello World!!\")"
   ]
  },
  {
   "cell_type": "code",
   "execution_count": 2,
   "id": "f09c92db-2c69-40ee-95fe-678c21593a29",
   "metadata": {},
   "outputs": [
    {
     "ename": "NameError",
     "evalue": "name 'num1' is not defined",
     "output_type": "error",
     "traceback": [
      "\u001b[1;31m---------------------------------------------------------------------------\u001b[0m",
      "\u001b[1;31mNameError\u001b[0m                                 Traceback (most recent call last)",
      "Cell \u001b[1;32mIn[2], line 1\u001b[0m\n\u001b[1;32m----> 1\u001b[0m \u001b[38;5;28mprint\u001b[39m(\u001b[43mnum1\u001b[49m)\n",
      "\u001b[1;31mNameError\u001b[0m: name 'num1' is not defined"
     ]
    }
   ],
   "source": [
    "print(num1)"
   ]
  },
  {
   "cell_type": "code",
   "execution_count": null,
   "id": "5c3cbfbf-23d0-49b0-9a60-92eb829292b4",
   "metadata": {},
   "outputs": [],
   "source": [
    "#주석(comment)\n",
    "num1=30\n",
    "num2=13\n",
    "print(num1+num2) \n",
    "print(num1-num2) \n",
    "print(num1*num2) \n",
    "print(num1/num2)"
   ]
  },
  {
   "cell_type": "code",
   "execution_count": 6,
   "id": "4efbd5d2-1917-43c1-9ca7-821445cc4bb6",
   "metadata": {},
   "outputs": [
    {
     "name": "stdout",
     "output_type": "stream",
     "text": [
      "3\n",
      "-3\n",
      "3.141592\n",
      "Hello\n",
      "Hi\n",
      "True\n",
      "False\n"
     ]
    }
   ],
   "source": [
    "# 자료형 (type)\n",
    "print (3) #정수형\n",
    "print(-3)\n",
    "print(3.141592) #실수형\n",
    "print(\"Hello\") #문자열\n",
    "print('Hi') #문자열\n",
    "print(True) #논리형\n",
    "print(False)"
   ]
  },
  {
   "cell_type": "code",
   "execution_count": 7,
   "id": "439f93a6-3928-4a59-b9a2-0d28fcfa57fc",
   "metadata": {},
   "outputs": [
    {
     "name": "stdout",
     "output_type": "stream",
     "text": [
      "10\n",
      "20\n"
     ]
    }
   ],
   "source": [
    "num3 = 10 \n",
    "print(num3)\n",
    "num3= 20\n",
    "print(num3)"
   ]
  },
  {
   "cell_type": "code",
   "execution_count": 12,
   "id": "8dbbbd5d-dc99-4f21-b00d-447952270f6a",
   "metadata": {},
   "outputs": [
    {
     "name": "stdout",
     "output_type": "stream",
     "text": [
      "2 20 3.141592 -1.25 3.0 Hello World! Hi Python True False\n"
     ]
    }
   ],
   "source": [
    "# num1 변수에 숫자 2을 대입하시오\n",
    "# num2 변수에 숫자 4를 대입하시오\n",
    "# num2 변수에 숫자 20을 대입하시오\n",
    "# num3 변수에 숫자 3.141592를 대입하시오\n",
    "# num4 변수에 숫자 -1.25를 대입하시오\n",
    "# num5 변수에 숫자 3.0을 대입하시오\n",
    "# str1 변수에 문자열 “Hello World!” 를 대입하시오\n",
    "# str2 변수에 문자열 ‘Hi Python’ 을 대입하시오\n",
    "# bool1 변수에 Ture를 대입하시오\n",
    "# bool2 변수에 False를 대입하시오\n",
    "\n",
    "num1=2\n",
    "num2=4\n",
    "num2=20\n",
    "num3=3.141592\n",
    "num4=-1.25\n",
    "num5=3.0\n",
    "str1=\"Hello World!\"\n",
    "str2='Hi Python'\n",
    "bool1= True\n",
    "bool2= False\n",
    "print(num1,num2,num3,num4,num5,str1,str2,bool1,bool2)"
   ]
  },
  {
   "cell_type": "code",
   "execution_count": 18,
   "id": "a3d99d6b-347f-4e7e-bb53-a5ba6d37a958",
   "metadata": {},
   "outputs": [
    {
     "name": "stdout",
     "output_type": "stream",
     "text": [
      "10 20\n",
      "['False', 'None', 'True', '__peg_parser__', 'and', 'as', 'assert', 'async', 'await', 'break', 'class', 'continue', 'def', 'del', 'elif', 'else', 'except', 'finally', 'for', 'from', 'global', 'if', 'import', 'in', 'is', 'lambda', 'nonlocal', 'not', 'or', 'pass', 'raise', 'return', 'try', 'while', 'with', 'yield']\n"
     ]
    }
   ],
   "source": [
    "#Variable Naming Rules\n",
    "#1. 영문자, 숫자,underscore( _ )\n",
    "#2. -단, 영문자는 대소문자를 다르게 인식한다.\n",
    "# 문자를 아스키 값으로 인지!!\n",
    "# A : 65, a : 97, 0: 48 세개 정도는 알아두기\n",
    "num= 10\n",
    "Num=20\n",
    "print(num,Num)\n",
    "\n",
    "#2. 숫자로 시작할 수 없다.\n",
    "# -값으로 인식하기 떄문\n",
    "# 1a=30 (X)\n",
    "\n",
    "#3.키워드(예약어)를 사용할 수 없다\n",
    "# Python 에서 사용되는 키워드 목록\n",
    "from keyword import kwlist\n",
    "print(kwlist)"
   ]
  },
  {
   "cell_type": "code",
   "execution_count": null,
   "id": "8ccaca29-a730-4246-b5f1-80e6fde9ef22",
   "metadata": {},
   "outputs": [],
   "source": [
    "# 필수는 아니지만 권장되는 변수명 규칙\n",
    "# 1. 변수의 첫 문자는 소문자\n",
    "# -> 대문자는 클래스 이름으로 사용\n",
    "# 2. 여러 단어를 나열할 경우 표기법을 사용\n",
    "today_lunch_menu = \"보쌈\" #Snake 표기법\n",
    "todayLunchMeun = \"족발\" #Camel 표기법\n",
    "strtoday = \"볶음밥\" #헝가리안 표기법 -자료형까지 표기"
   ]
  },
  {
   "cell_type": "code",
   "execution_count": 25,
   "id": "8f7d04b0-c832-483a-b2a6-68d9eddf4fb6",
   "metadata": {},
   "outputs": [
    {
     "data": {
      "text/plain": [
       "0.5000001943375613"
      ]
     },
     "execution_count": 25,
     "metadata": {},
     "output_type": "execute_result"
    }
   ],
   "source": [
    "import math\n",
    "math.sin(0.523599)"
   ]
  },
  {
   "cell_type": "code",
   "execution_count": 53,
   "id": "47bf2a88-d390-4ea9-ad62-800c55087ea0",
   "metadata": {},
   "outputs": [
    {
     "name": "stdout",
     "output_type": "stream",
     "text": [
      "Collecting numpy\n",
      "  Downloading numpy-2.0.2-cp39-cp39-win_amd64.whl.metadata (59 kB)\n",
      "Downloading numpy-2.0.2-cp39-cp39-win_amd64.whl (15.9 MB)\n",
      "   ---------------------------------------- 0.0/15.9 MB ? eta -:--:--\n",
      "   -- ------------------------------------- 1.0/15.9 MB 5.6 MB/s eta 0:00:03\n",
      "   ---- ----------------------------------- 1.8/15.9 MB 4.4 MB/s eta 0:00:04\n",
      "   ----- ---------------------------------- 2.1/15.9 MB 3.8 MB/s eta 0:00:04\n",
      "   ------ --------------------------------- 2.6/15.9 MB 3.2 MB/s eta 0:00:05\n",
      "   ------- -------------------------------- 2.9/15.9 MB 3.0 MB/s eta 0:00:05\n",
      "   -------- ------------------------------- 3.4/15.9 MB 2.8 MB/s eta 0:00:05\n",
      "   ---------- ----------------------------- 4.2/15.9 MB 2.9 MB/s eta 0:00:05\n",
      "   ----------- ---------------------------- 4.7/15.9 MB 2.9 MB/s eta 0:00:04\n",
      "   ------------- -------------------------- 5.2/15.9 MB 2.8 MB/s eta 0:00:04\n",
      "   -------------- ------------------------- 5.8/15.9 MB 2.8 MB/s eta 0:00:04\n",
      "   --------------- ------------------------ 6.0/15.9 MB 2.7 MB/s eta 0:00:04\n",
      "   --------------- ------------------------ 6.3/15.9 MB 2.6 MB/s eta 0:00:04\n",
      "   ---------------- ----------------------- 6.6/15.9 MB 2.4 MB/s eta 0:00:04\n",
      "   ----------------- ---------------------- 6.8/15.9 MB 2.3 MB/s eta 0:00:04\n",
      "   ----------------- ---------------------- 6.8/15.9 MB 2.3 MB/s eta 0:00:04\n",
      "   ----------------- ---------------------- 7.1/15.9 MB 2.1 MB/s eta 0:00:05\n",
      "   ------------------ --------------------- 7.3/15.9 MB 2.1 MB/s eta 0:00:05\n",
      "   ------------------- -------------------- 7.9/15.9 MB 2.0 MB/s eta 0:00:04\n",
      "   --------------------- ------------------ 8.4/15.9 MB 2.0 MB/s eta 0:00:04\n",
      "   --------------------- ------------------ 8.7/15.9 MB 2.0 MB/s eta 0:00:04\n",
      "   ---------------------- ----------------- 8.9/15.9 MB 2.0 MB/s eta 0:00:04\n",
      "   ----------------------- ---------------- 9.2/15.9 MB 1.9 MB/s eta 0:00:04\n",
      "   ----------------------- ---------------- 9.4/15.9 MB 1.9 MB/s eta 0:00:04\n",
      "   ------------------------ --------------- 9.7/15.9 MB 1.9 MB/s eta 0:00:04\n",
      "   ------------------------- -------------- 10.0/15.9 MB 1.9 MB/s eta 0:00:04\n",
      "   ------------------------- -------------- 10.2/15.9 MB 1.8 MB/s eta 0:00:04\n",
      "   ------------------------- -------------- 10.2/15.9 MB 1.8 MB/s eta 0:00:04\n",
      "   -------------------------- ------------- 10.5/15.9 MB 1.8 MB/s eta 0:00:04\n",
      "   -------------------------- ------------- 10.5/15.9 MB 1.8 MB/s eta 0:00:04\n",
      "   --------------------------- ------------ 10.7/15.9 MB 1.7 MB/s eta 0:00:04\n",
      "   --------------------------- ------------ 10.7/15.9 MB 1.7 MB/s eta 0:00:04\n",
      "   --------------------------- ------------ 10.7/15.9 MB 1.7 MB/s eta 0:00:04\n",
      "   --------------------------- ------------ 10.7/15.9 MB 1.7 MB/s eta 0:00:04\n",
      "   --------------------------- ------------ 11.0/15.9 MB 1.5 MB/s eta 0:00:04\n",
      "   --------------------------- ------------ 11.0/15.9 MB 1.5 MB/s eta 0:00:04\n",
      "   --------------------------- ------------ 11.0/15.9 MB 1.5 MB/s eta 0:00:04\n",
      "   ---------------------------- ----------- 11.3/15.9 MB 1.4 MB/s eta 0:00:04\n",
      "   ---------------------------- ----------- 11.5/15.9 MB 1.4 MB/s eta 0:00:04\n",
      "   ---------------------------- ----------- 11.5/15.9 MB 1.4 MB/s eta 0:00:04\n",
      "   ----------------------------- ---------- 11.8/15.9 MB 1.4 MB/s eta 0:00:03\n",
      "   ----------------------------- ---------- 11.8/15.9 MB 1.4 MB/s eta 0:00:03\n",
      "   ------------------------------ --------- 12.1/15.9 MB 1.4 MB/s eta 0:00:03\n",
      "   ------------------------------ --------- 12.3/15.9 MB 1.4 MB/s eta 0:00:03\n",
      "   ------------------------------ --------- 12.3/15.9 MB 1.4 MB/s eta 0:00:03\n",
      "   ------------------------------ --------- 12.3/15.9 MB 1.4 MB/s eta 0:00:03\n",
      "   ------------------------------- -------- 12.6/15.9 MB 1.3 MB/s eta 0:00:03\n",
      "   ------------------------------- -------- 12.6/15.9 MB 1.3 MB/s eta 0:00:03\n",
      "   -------------------------------- ------- 12.8/15.9 MB 1.3 MB/s eta 0:00:03\n",
      "   -------------------------------- ------- 12.8/15.9 MB 1.3 MB/s eta 0:00:03\n",
      "   -------------------------------- ------- 13.1/15.9 MB 1.2 MB/s eta 0:00:03\n",
      "   -------------------------------- ------- 13.1/15.9 MB 1.2 MB/s eta 0:00:03\n",
      "   --------------------------------- ------ 13.4/15.9 MB 1.2 MB/s eta 0:00:03\n",
      "   ---------------------------------- ----- 13.6/15.9 MB 1.2 MB/s eta 0:00:02\n",
      "   ---------------------------------- ----- 13.6/15.9 MB 1.2 MB/s eta 0:00:02\n",
      "   ---------------------------------- ----- 13.6/15.9 MB 1.2 MB/s eta 0:00:02\n",
      "   ---------------------------------- ----- 13.9/15.9 MB 1.2 MB/s eta 0:00:02\n",
      "   ---------------------------------- ----- 13.9/15.9 MB 1.2 MB/s eta 0:00:02\n",
      "   ---------------------------------- ----- 13.9/15.9 MB 1.2 MB/s eta 0:00:02\n",
      "   ----------------------------------- ---- 14.2/15.9 MB 1.1 MB/s eta 0:00:02\n",
      "   ----------------------------------- ---- 14.2/15.9 MB 1.1 MB/s eta 0:00:02\n",
      "   ----------------------------------- ---- 14.2/15.9 MB 1.1 MB/s eta 0:00:02\n",
      "   ------------------------------------ --- 14.4/15.9 MB 1.1 MB/s eta 0:00:02\n",
      "   ------------------------------------ --- 14.4/15.9 MB 1.1 MB/s eta 0:00:02\n",
      "   ------------------------------------ --- 14.7/15.9 MB 1.1 MB/s eta 0:00:02\n",
      "   ------------------------------------ --- 14.7/15.9 MB 1.1 MB/s eta 0:00:02\n",
      "   ------------------------------------- -- 14.9/15.9 MB 1.1 MB/s eta 0:00:01\n",
      "   ------------------------------------- -- 14.9/15.9 MB 1.1 MB/s eta 0:00:01\n",
      "   ------------------------------------- -- 14.9/15.9 MB 1.1 MB/s eta 0:00:01\n",
      "   -------------------------------------- - 15.2/15.9 MB 1.0 MB/s eta 0:00:01\n",
      "   -------------------------------------- - 15.2/15.9 MB 1.0 MB/s eta 0:00:01\n",
      "   -------------------------------------- - 15.2/15.9 MB 1.0 MB/s eta 0:00:01\n",
      "   -------------------------------------- - 15.5/15.9 MB 1.0 MB/s eta 0:00:01\n",
      "   -------------------------------------- - 15.5/15.9 MB 1.0 MB/s eta 0:00:01\n",
      "   -------------------------------------- - 15.5/15.9 MB 1.0 MB/s eta 0:00:01\n",
      "   -------------------------------------- - 15.5/15.9 MB 1.0 MB/s eta 0:00:01\n",
      "   ---------------------------------------  15.7/15.9 MB 967.6 kB/s eta 0:00:01\n",
      "   ---------------------------------------  15.7/15.9 MB 967.6 kB/s eta 0:00:01\n",
      "   ---------------------------------------  15.7/15.9 MB 967.6 kB/s eta 0:00:01\n",
      "   ---------------------------------------  15.7/15.9 MB 967.6 kB/s eta 0:00:01\n",
      "   ---------------------------------------  15.7/15.9 MB 967.6 kB/s eta 0:00:01\n",
      "   ---------------------------------------  15.7/15.9 MB 967.6 kB/s eta 0:00:01\n",
      "   ---------------------------------------- 15.9/15.9 MB 913.0 kB/s  0:00:17\n",
      "Installing collected packages: numpy\n",
      "Successfully installed numpy-2.0.2\n"
     ]
    }
   ],
   "source": [
    "!pip install numpy"
   ]
  },
  {
   "cell_type": "code",
   "execution_count": 52,
   "id": "98e5ae49-25ec-4e23-a0a3-0f03c6e4c3be",
   "metadata": {},
   "outputs": [
    {
     "data": {
      "text/plain": [
       "39"
      ]
     },
     "execution_count": 52,
     "metadata": {},
     "output_type": "execute_result"
    }
   ],
   "source": [
    "import random\n",
    "random.randint(1,45)"
   ]
  },
  {
   "cell_type": "code",
   "execution_count": 56,
   "id": "a0de3567-6e63-4639-8406-5b3ae126956d",
   "metadata": {},
   "outputs": [
    {
     "data": {
      "text/plain": [
       "0.49999999999999994"
      ]
     },
     "execution_count": 56,
     "metadata": {},
     "output_type": "execute_result"
    }
   ],
   "source": [
    "import math\n",
    "math.sin(math.pi*(1/6))"
   ]
  },
  {
   "cell_type": "code",
   "execution_count": 58,
   "id": "0c83eaa3-bab0-4bbb-bbc9-3682c5bf41af",
   "metadata": {},
   "outputs": [
    {
     "name": "stdout",
     "output_type": "stream",
     "text": [
      "True\n",
      "False\n"
     ]
    }
   ],
   "source": [
    "print(1+2 ==3)\n",
    "print(1.1+2.2==3.3) \n",
    "# 실수값이 근사로 저장되기 떄문에(IEEE754 double) \n",
    "# ->실수 관련 라이브러리를 사용하면 정확한 값을 얻을 수 있음."
   ]
  },
  {
   "cell_type": "code",
   "execution_count": 62,
   "id": "c9da5162-d04f-4930-a34b-fc4e8870016f",
   "metadata": {},
   "outputs": [
    {
     "name": "stdout",
     "output_type": "stream",
     "text": [
      "13\n",
      "7\n",
      "30\n",
      "3.3333333333333335\n",
      "3\n",
      "1\n",
      "HelloWorld!\n",
      "HiHiHi\n",
      "1024\n"
     ]
    }
   ],
   "source": [
    "# 연산자 (operator)\n",
    "# 1. 산술 연산자\n",
    "print(10+3) #13\n",
    "print(10-3) #7\n",
    "print(10*3) #30\n",
    "print(10/3) #3.3333\n",
    "print(10//3) #3 (몫 연산자)\n",
    "print(10%3) #1 (나머지 연산자)\n",
    "print(\"Hello\" + \"World!\") #문자열 더하기 가능\n",
    "print(\"Hi\"*3)\n",
    "\n",
    "#2.지수 연산자\n",
    "print(2**10)"
   ]
  },
  {
   "cell_type": "code",
   "execution_count": null,
   "id": "4d551b71-4969-4a19-888f-9d21074c9e4b",
   "metadata": {},
   "outputs": [],
   "source": []
  }
 ],
 "metadata": {
  "kernelspec": {
   "display_name": "Python 3 (ipykernel)",
   "language": "python",
   "name": "python3"
  },
  "language_info": {
   "codemirror_mode": {
    "name": "ipython",
    "version": 3
   },
   "file_extension": ".py",
   "mimetype": "text/x-python",
   "name": "python",
   "nbconvert_exporter": "python",
   "pygments_lexer": "ipython3",
   "version": "3.9.23"
  }
 },
 "nbformat": 4,
 "nbformat_minor": 5
}
