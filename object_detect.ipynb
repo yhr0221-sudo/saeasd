{
 "cells": [
  {
   "cell_type": "code",
   "execution_count": 1,
   "id": "e45bac04-285c-49b4-9aa9-9a96a4af2b92",
   "metadata": {},
   "outputs": [],
   "source": [
    "import torch\n",
    "import cv2\n",
    "import numpy as np"
   ]
  },
  {
   "cell_type": "code",
   "execution_count": 5,
   "id": "7502eeb0-befc-43ce-83a4-440d00e54c03",
   "metadata": {},
   "outputs": [],
   "source": [
    "cat = cv2.imread(\"imgs/cat.jpeg\")\n",
    "if cat is not None:\n",
    "    cv2.imshow(\"exam\", cat)\n",
    "    cv2.waitKey(0) # 사용자가 어떤 키든 입력하기를 기다림\n",
    "    \n",
    "    cv2.destroyAllWindows()\n",
    "    cv2.waitKey(1)\n",
    "else:\n",
    "    print(\"이미지가 없습니다\")"
   ]
  },
  {
   "cell_type": "code",
   "execution_count": null,
   "id": "9e8c82ca-c799-4638-b8e9-ad36a66b95f4",
   "metadata": {},
   "outputs": [],
   "source": [
    "!pip install ultralytics"
   ]
  },
  {
   "cell_type": "code",
   "execution_count": null,
   "id": "d7628bd9-ecd9-481a-aeb2-14d538bded58",
   "metadata": {},
   "outputs": [],
   "source": [
    "!pip install pandas"
   ]
  },
  {
   "cell_type": "code",
   "execution_count": null,
   "id": "52c0a41d-ce86-411d-ac32-0d2500c7c34b",
   "metadata": {},
   "outputs": [],
   "source": [
    "!pip install tqdm"
   ]
  },
  {
   "cell_type": "code",
   "execution_count": null,
   "id": "13683bb8-22c1-4a60-9477-16ef1179d9ae",
   "metadata": {},
   "outputs": [],
   "source": [
    "!pip install seaborn"
   ]
  },
  {
   "cell_type": "code",
   "execution_count": 3,
   "id": "c0a8a523-3c2f-4633-a31c-0957259e2aee",
   "metadata": {},
   "outputs": [
    {
     "name": "stderr",
     "output_type": "stream",
     "text": [
      "Using cache found in C:\\Users\\KCCISTC/.cache\\torch\\hub\\ultralytics_yolov5_master\n",
      "YOLOv5  2025-9-19 Python-3.9.23 torch-2.8.0+cpu CPU\n",
      "\n",
      "Fusing layers... \n",
      "YOLOv5s summary: 213 layers, 7225885 parameters, 0 gradients, 16.4 GFLOPs\n",
      "Adding AutoShape... \n"
     ]
    }
   ],
   "source": [
    "# torch 활용해서 yolov5 모델 로드하기\n",
    "model = torch.hub.load(\"ultralytics/yolov5\",\"yolov5s\")\n",
    "# yolov5s : 가장 작고 빠른 모델\n",
    "# yolov5m : 중간 크기 모델\n",
    "# yolov5l : 큰 모델\n",
    "# yolov5x : 가장 크고 정확도가 높은 모델\n",
    "# x로 갈수록 정확도 높아지지만 느려짐"
   ]
  },
  {
   "cell_type": "code",
   "execution_count": null,
   "id": "27cb4d52-eafe-4e3c-ae70-f5c35d9cab0c",
   "metadata": {},
   "outputs": [],
   "source": [
    "# 이 객체 인식 모델인 yolov5 같은 경우에 객체 인식을 해주고 좌표를 알려줌"
   ]
  },
  {
   "cell_type": "code",
   "execution_count": 11,
   "id": "2561d3c7-ab9e-4392-a09d-94c8e3771549",
   "metadata": {},
   "outputs": [
    {
     "name": "stderr",
     "output_type": "stream",
     "text": [
      "C:\\Users\\KCCISTC/.cache\\torch\\hub\\ultralytics_yolov5_master\\models\\common.py:906: FutureWarning: `torch.cuda.amp.autocast(args...)` is deprecated. Please use `torch.amp.autocast('cuda', args...)` instead.\n",
      "  with amp.autocast(autocast):\n"
     ]
    },
    {
     "data": {
      "text/plain": [
       "tensor([[ 0.08410,  0.14394,  0.63733,  0.90092,  0.88260, 15.00000]])"
      ]
     },
     "execution_count": 11,
     "metadata": {},
     "output_type": "execute_result"
    }
   ],
   "source": [
    "result = model(cat)\n",
    "result.xyxyn[0] #(xmin, ymin, xmax, ymax, confidence, class)"
   ]
  },
  {
   "cell_type": "code",
   "execution_count": 10,
   "id": "86564bea-6312-45f5-a9e8-123fc1c50cf0",
   "metadata": {},
   "outputs": [
    {
     "data": {
      "text/plain": [
       "np.float32(16.0)"
      ]
     },
     "execution_count": 10,
     "metadata": {},
     "output_type": "execute_result"
    }
   ],
   "source": [
    "# 텐서를 어레이로 변환\n",
    "detect = result.xyxyn[0].numpy()\n",
    "detect[0][5]"
   ]
  },
  {
   "cell_type": "code",
   "execution_count": 12,
   "id": "64dbc239-da76-447d-9a09-78e026fb2006",
   "metadata": {},
   "outputs": [],
   "source": [
    "import yaml\n",
    "# yaml 파일은 yaml ain't markup language\n",
    "# 얌은 마크업 언어가 아니다. (재귀)\n",
    "# ex) 응급처치란 ? 응급으로 처치한다\n",
    "\n",
    "# At, flask server\n",
    "# port, host, address\n",
    "# my_server.port = 5000\n",
    "# my_server.host = \" 0.0.0.0\"\n",
    "# my_server.address = \" ~~~\"\n",
    "# 이렇게 보는게 불편해서 yaml은 이런식으로\n",
    "# my_server \n",
    "#  port : 5000\n",
    "#  host : \"0.0.0.0\"\n",
    "#  address : \"~~\""
   ]
  },
  {
   "cell_type": "code",
   "execution_count": 13,
   "id": "63884171-9eb0-4e29-b7df-401ba3bb256a",
   "metadata": {},
   "outputs": [
    {
     "name": "stdout",
     "output_type": "stream",
     "text": [
      "cat\n"
     ]
    }
   ],
   "source": [
    "with open (\"yolov5/data/coco.yaml\",\"r\",encoding =\"UTF-8\") as file:\n",
    "    data = yaml.full_load(file)\n",
    "    print(data[\"names\"][15])"
   ]
  },
  {
   "cell_type": "code",
   "execution_count": 14,
   "id": "f3833350-bd94-4406-8873-09de0a697e1f",
   "metadata": {},
   "outputs": [
    {
     "data": {
      "text/plain": [
       "'dog'"
      ]
     },
     "execution_count": 14,
     "metadata": {},
     "output_type": "execute_result"
    }
   ],
   "source": [
    "data[\"names\"][detect[0][5]]"
   ]
  },
  {
   "cell_type": "code",
   "execution_count": null,
   "id": "87673d06-c2a8-446f-b567-4eff4d1ee3dd",
   "metadata": {},
   "outputs": [],
   "source": []
  },
  {
   "cell_type": "code",
   "execution_count": null,
   "id": "63e44c56-9b11-4c27-9949-daacc2b8f87f",
   "metadata": {},
   "outputs": [],
   "source": [
    "# # 이미지를 띄울 때 해당 객체의 바운딩 박스를 그려보자\n",
    "# # Yolov5 이용해서\n",
    "# cat = cv2.imread(\"imgs/cat.jpeg\")\n",
    "# result = model(cat)\n",
    "# detect = result.xyxyn[0].numpy()\n",
    "\n",
    "# # 네모를 그리기 위해 가로가 얼마인지, 세로가 얼마인지 알아야 함.\n",
    "# x_shape = cat.shape[1] # y>x 순서: 가로가 인덱스 1\n",
    "# y_shape = cat.shape[0]          # 세로가 인덱스 0임\n",
    "\n",
    "\n",
    "# for i in range(len(detect)):\n",
    "#     #감지된 객체 수 만큼 for문 동작\n",
    "#     # (x1,y1) -> (x2,y2) : 제4사분면이라고 생각 ,+-는 안따짐\n",
    "#     x1 = int(detect[i,0] * x_shape) # 좌표는 정수로 받아야 찍힌다고함\n",
    "#     y1 = int(detect[i,1] * y_shape)\n",
    "#     x2 = int(detect[i,2] * x_shape)\n",
    "#     y2 = int(detect[i,3] * y_shape)\n",
    "\n",
    "#     # retangle(이미지,좌상단,우하단,색상(BGR),두께)  # ex) 빨간색 = 0,0,255\n",
    "#     cv2.rectangle(dog,(x1,y1),(x2,y2),(0,0,255),2)\n",
    "    \n",
    "# cv2.imshow(\"cat\",cat)\n",
    "# cv2.waitKey(0)\n",
    "\n",
    "# cv2.destroyAllWindows()\n",
    "# cv2.waitKey(1)"
   ]
  },
  {
   "cell_type": "code",
   "execution_count": 60,
   "id": "1c9e2079-11bf-4edd-852b-601d485fb724",
   "metadata": {},
   "outputs": [
    {
     "name": "stdout",
     "output_type": "stream",
     "text": [
      "^C\n"
     ]
    }
   ],
   "source": [
    "!pip uninstall torch"
   ]
  },
  {
   "cell_type": "code",
   "execution_count": null,
   "id": "3278d33c-be54-4177-9a4d-a51a0ee0be49",
   "metadata": {},
   "outputs": [],
   "source": [
    "# 이미지를 띄울 때 해당 객체를 바운딩 박스 그려보자\n",
    "# Yolov5 이용해서\n",
    "dog = cv2.imread(\"imgs/dog2.jpeg\")\n",
    "result = model(dog)\n",
    "detect = result.xyxyn[0].numpy()\n",
    "\n",
    "# 네모를 그리기 위해 가로가 얼마인지, 세로가 얼마인지\n",
    "x_shape = dog.shape[1] # 가로가 인덱스 1이다\n",
    "y_shape = dog.shape[0] # 세로가 인덱스 0이다\n",
    "\n",
    "for i in range(len(detect)):\n",
    "    # 감지된 객체 수 만큼 for문 동작\n",
    "    # (x1, y1) : 좌상단, (x2, y2) : 우하단\n",
    "    x1 = int(detect[i, 0] * x_shape)\n",
    "    y1 = int(detect[i, 1] * y_shape)\n",
    "    x2 = int(detect[i, 2] * x_shape)\n",
    "    y2 = int(detect[i, 3] * y_shape)\n",
    "\n",
    "    # rectangle(이미지, 좌상단, 우하단, 색상(BGR), 두께)\n",
    "    cv2.rectangle(dog, (x1, y1), (x2, y2), (0, 0, 255), 2)\n",
    "\n",
    "    class_name = data[\"names\"][detect[i][5]]\n",
    "    confidence = detect[i][4]\n",
    "    text = f\"{class_name} {confidence:.2f}\"\n",
    "\n",
    "    # putText(이미지, 입력할 문자열, 위치, 폰트, 폰트 크기, 색, 폰트 두께)\n",
    "    cv2.putText(dog, text, (x1, y1 + 30), cv2.FONT_HERSHEY_PLAIN, 1.5, (0, 0, 255), 2)\n",
    "\n",
    "cv2.imshow(\"dog\", dog)\n",
    "cv2.waitKey(0)\n",
    "\n",
    "cv2.destroyAllWindows()\n",
    "cv2.waitKey(1) "
   ]
  },
  {
   "cell_type": "code",
   "execution_count": 31,
   "id": "31dfddaf-bc49-46e1-97f7-d6ecc3384880",
   "metadata": {},
   "outputs": [],
   "source": [
    "# 1장 1장 Dog, Cat 바운딩 박스 그렸는데 \n",
    "# 웹 캠과 연결하여 실시간 객체 인식\n",
    "# model yolov5, weight 기본, 학습한 weight"
   ]
  },
  {
   "cell_type": "code",
   "execution_count": null,
   "id": "0736798c-f35c-420f-8189-9731e10c5298",
   "metadata": {},
   "outputs": [],
   "source": [
    "import cv2\n",
    "from ultralytics import YOLO\n",
    "import yaml\n",
    "import torch\n",
    "\n",
    "# 내 pt가 있으면 그거 쓰면 됨!!\n",
    "model = YOLO(\"yolov5s.pt\")\n",
    "# 웹 캠 열자\n",
    "cap = cv2.VideoCapture(0) # source는 먼저 연결된 카메라부터 0, 1, 2, ...\n",
    "\n",
    "if not cap.isOpened():\n",
    "    print(\"웹 캠을 열 수 없습니다\")\n",
    "else:\n",
    "    while True: # 이미지 연속으로 계속 로드!!\n",
    "        ret, frame = cap.read()\n",
    "        if not ret:\n",
    "            print(\"프레임을 읽을 수 없습니다\")\n",
    "            break\n",
    "\n",
    "        # 현재 프레임에 대해 model을 통해 객체 인식\n",
    "        results = model(frame) # 객체가 여러 개 감지 될 수 있음\n",
    "\n",
    "        # 감지된 결과를 하나씩 처리해보자\n",
    "        x_shape = frame.shape[1]\n",
    "        y_shape = frame.shape[0]\n",
    "        \n",
    "        for result in results:\n",
    "            # 코드 수정\n",
    "            # xyxyn[0] 대신 boxes 필드를 사용하여 정보 조금 더 쉽게 얻기\n",
    "            boxes = result.boxes # 해당 필드에는 x1, y1, x2, y2, conf, cls\n",
    "            for box in boxes:\n",
    "                x1, y1, x2, y2 = map(int, box.xyxy[0])\n",
    "                class_name = model.names[int(box.cls[0])]\n",
    "\n",
    "                cv2.rectangle(frame, (x1, y1), (x2, y2), (0, 0, 255), 2)\n",
    "                cv2.putText(frame, class_name, (x1, y1 + 30), cv2.FONT_HERSHEY_PLAIN,\n",
    "                                2, (0, 0, 255), 2)\n",
    "                \n",
    "        cv2.imshow(\"frame\", frame)\n",
    "        # 1ms 기다리는 와중에 사용자가 q를 누르면 break\n",
    "        if cv2.waitKey(1) & 0xFF == ord(\"q\"):\n",
    "            break\n",
    "cap.release() # 카메라 점유 해제\n",
    "cv2.destroyAllWindows()\n",
    "cv2.waitKey(1)"
   ]
  },
  {
   "cell_type": "code",
   "execution_count": null,
   "id": "2214c8ae-b14e-4825-8d21-0625d640dc79",
   "metadata": {},
   "outputs": [],
   "source": [
    "# 실시간 객체 탐지하기 위해 YOLO 모델을 사용\n",
    "# 그 전 Fast-RNN 등 2번의 객체 탐지 과정이 필요했음.\n",
    "# 객체가 어디에 있는지, 어떤 객체인지 ?\n",
    "# YOLO(You Only Look Once) : 빠르다. 단, 정확도가 떨어진다 -but 버전이 올라감에 따라 개선됨.\n",
    "\n",
    "# 1) Yolov5 활용해서 객체 탐지 -> 바운딩 박스 (위에서 한 것 정리 + 해석)\n",
    "import torch\n",
    "import cv2\n",
    "import numpy as np\n",
    "import yaml\n",
    "# 중요한 파트  torch 사용해서 yolov5를 사용\n",
    "model = torch.hub.load(\"ultralytics/yolov5\", \"yolov5s\")\n",
    "\n",
    "with open(\"yolov5/data/coco.yaml\", \"r\", encoding=\"UTF-8\") as file:\n",
    "    data = yaml.full_load(file)\n",
    "\n",
    "# 이미지를 띄울 때 해당 객체를 바운딩 박스 그려보자\n",
    "# Yolov5 이용해서\n",
    "dog = cv2.imread(\"imgs/dog.jpg\")\n",
    "result = model(dog)\n",
    "detect = result.xyxyn[0].numpy()\n",
    "\n",
    "# 네모를 그리기 위해 가로가 얼마인지, 세로가 얼마인지\n",
    "x_shape = dog.shape[1] # 가로가 인덱스 1이다\n",
    "y_shape = dog.shape[0] # 세로가 인덱스 0이다\n",
    "\n",
    "for i in range(len(detect)):\n",
    "    # 감지된 객체 수 만큼 for문 동작\n",
    "    # (x1, y1) : 좌상단, (x2, y2) : 우하단\n",
    "    x1 = int(detect[i, 0] * x_shape)\n",
    "    y1 = int(detect[i, 1] * y_shape)\n",
    "    x2 = int(detect[i, 2] * x_shape)\n",
    "    y2 = int(detect[i, 3] * y_shape)\n",
    "\n",
    "    # rectangle(이미지, 좌상단, 우하단, 색상(BGR), 두께)\n",
    "    cv2.rectangle(dog, (x1, y1), (x2, y2), (0, 0, 255), 2)\n",
    "\n",
    "    class_name = data[\"names\"][detect[i][5]]\n",
    "    confidence = detect[i][4]\n",
    "    text = f\"{class_name} {confidence:.2f}\"\n",
    "\n",
    "    # putText(이미지, 입력할 문자열, 위치, 폰트, 폰트 크기, 색, 폰트 두께)\n",
    "    cv2.putText(dog, text, (x1, y1 + 30), cv2.FONT_HERSHEY_PLAIN, 2, (0, 0, 255), 2)\n",
    "\n",
    "cv2.imshow(\"dog\", dog)\n",
    "cv2.waitKey(0)\n",
    "\n",
    "cv2.destroyAllWindows()\n",
    "cv2.waitKey(1)   "
   ]
  },
  {
   "cell_type": "code",
   "execution_count": null,
   "id": "584eb56e-7ca8-4248-846a-075421bf0ee6",
   "metadata": {},
   "outputs": [],
   "source": [
    "# 위의 것을 실시간으로 \n",
    "import torch\n",
    "import cv2\n",
    "import numpy as np\n",
    "import yaml\n",
    "# 중요한 파트  torch 사용해서 yolov5를 사용\n",
    "# 허브 사용해서 작은 s 모델로. 혹시 이미지 파일이 크다면 l\n",
    "model = torch.hub.load(\"ultralytics/yolov5\", \"yolov5s\")\n",
    "\n",
    "with open(\"yolov5/data/coco.yaml\", \"r\", encoding=\"UTF-8\") as file:\n",
    "    data = yaml.full_load(file)\n",
    "\n",
    "cap = cv2.VideoCapture(0)\n",
    "if not cap.isOpened():\n",
    "    print(\"카메라를 찾을 수 없습니다\")\n",
    "else:\n",
    "    while True:\n",
    "        ret,frame = cap.read()\n",
    "        \n",
    "        if not ret:\n",
    "            print(\"프레임을 찾을 수 없습니다.\")\n",
    "            break\n",
    "            \n",
    "        result = model(frame)\n",
    "        detect = result.xyxyn[0].numpy()\n",
    "        \n",
    "        # 네모를 그리기 위해 가로가 얼마인지, 세로가 얼마인지\n",
    "        x_shape = frame.shape[1] # 가로가 인덱스 1이다\n",
    "        y_shape = frame.shape[0] # 세로가 인덱스 0이다\n",
    "        \n",
    "        for i in range(len(detect)):\n",
    "            # 감지된 객체 수 만큼 for문 동작\n",
    "            # (x1, y1) : 좌상단, (x2, y2) : 우하단\n",
    "            x1 = int(detect[i, 0] * x_shape)\n",
    "            y1 = int(detect[i, 1] * y_shape)\n",
    "            x2 = int(detect[i, 2] * x_shape)\n",
    "            y2 = int(detect[i, 3] * y_shape)\n",
    "        \n",
    "            # rectangle(이미지, 좌상단, 우하단, 색상(BGR), 두께)\n",
    "            cv2.rectangle(frame, (x1, y1), (x2, y2), (0, 0, 255), 2)\n",
    "        \n",
    "            class_name = data[\"names\"][detect[i][5]]\n",
    "            confidence = detect[i][4]\n",
    "            text = f\"{class_name} {confidence:.2f}\"\n",
    "        \n",
    "            # putText(이미지, 입력할 문자열, 위치, 폰트, 폰트 크기, 색, 폰트 두께)\n",
    "            cv2.putText(frame, text, (x1, y1 + 30), cv2.FONT_HERSHEY_PLAIN, 2, (0, 0, 255), 2)\n",
    "\n",
    "            cv2.imshow(\"dog\", frame)\n",
    "            if cv2.waitKey(1) & 0xFF == ord(\"q\"):\n",
    "                break\n",
    "cap.release()\n",
    "cv2.destroyAllWindows()\n",
    "cv2.waitKey(1)   "
   ]
  },
  {
   "cell_type": "code",
   "execution_count": null,
   "id": "5328da97-b93a-49da-8783-2fc123d74c5a",
   "metadata": {},
   "outputs": [],
   "source": [
    "# YOLOv5를 활용하여 가위바위보 학습해보자\n",
    "# 가장 간단한 방법은 터미널에 명령어 입력\n",
    "# %pwd -> workspace 기준\n",
    "!python yolov5/classify/train.py --model yolov5/yolov5s.pt --img 224 --data rps/ --epochs 2 --batch-size 64"
   ]
  },
  {
   "cell_type": "code",
   "execution_count": 1,
   "id": "5b25203c-ceb4-48db-924c-28ebc956cd15",
   "metadata": {},
   "outputs": [],
   "source": [
    "# 현재는 rps에 있는 폴더 이름을 보고 알아서 추측해서 진행\n",
    "# 좀 더 명확하게 yaml로 속성을 구성해서 진행해보자.\n",
    "import yaml\n",
    "\n",
    "yaml_data = {\n",
    "    \"path\" : \"rps\",\n",
    "    \"train\" : \"rps/train\",\n",
    "    \"test\" : \"rps/test\",\n",
    "    \"valid\" : \"rps/valid/\",\n",
    "    \"nc\" : 3,\n",
    "    \"names\" : [\"paper\",\"rock\", \"scissor\"]\n",
    "}\n",
    "with open(\"rps.yaml\",\"w\",encoding =\"UTF-8\") as file:\n",
    "    yaml.dump(yaml_data, file)    "
   ]
  },
  {
   "cell_type": "code",
   "execution_count": 2,
   "id": "fe5acf16-ccb0-40be-9101-0ce530085717",
   "metadata": {},
   "outputs": [
    {
     "name": "stdout",
     "output_type": "stream",
     "text": [
      "C:\\Users\\KCCISTC\\Desktop\\workspace\\yolov5\n"
     ]
    },
    {
     "name": "stderr",
     "output_type": "stream",
     "text": [
      "C:\\ProgramData\\anaconda3\\envs\\detect\\lib\\site-packages\\IPython\\core\\magics\\osm.py:417: UserWarning: using dhist requires you to install the `pickleshare` library.\n",
      "  self.shell.db['dhist'] = compress_dhist(dhist)[-100:]\n"
     ]
    }
   ],
   "source": [
    "%cd yolov5"
   ]
  },
  {
   "cell_type": "code",
   "execution_count": null,
   "id": "26a97ae6-d0ed-49af-be5c-e7dfccde4643",
   "metadata": {},
   "outputs": [],
   "source": [
    "# 안됨\n",
    "!python classify/train.py --data ../rps.yaml --img 224 --epochs 5 --batch-size 64\n"
   ]
  },
  {
   "cell_type": "code",
   "execution_count": 11,
   "id": "93aad2fb-4785-41a8-a3db-5098f0b89b96",
   "metadata": {},
   "outputs": [
    {
     "name": "stderr",
     "output_type": "stream",
     "text": [
      "  % Total    % Received % Xferd  Average Speed   Time    Time     Time  Current\n",
      "                                 Dload  Upload   Total   Spent    Left  Speed\n",
      "\n",
      "  0     0    0     0    0     0      0      0 --:--:-- --:--:-- --:--:--     0\n",
      "  0     0    0     0    0     0      0      0 --:--:-- --:--:-- --:--:--     0\n",
      "100   910  100   910    0     0   1228      0 --:--:-- --:--:-- --:--:--  1229\n",
      "\n",
      "  0 58.4M    0 36819    0     0  27030      0  0:37:46  0:00:01  0:37:45 27030\n",
      "  1 58.4M    1  776k    0     0   333k      0  0:02:59  0:00:02  0:02:57  768k\n",
      "  5 58.4M    5 3342k    0     0  1009k      0  0:00:59  0:00:03  0:00:56 1695k\n",
      "  9 58.4M    9 5710k    0     0  1323k      0  0:00:45  0:00:04  0:00:41 1920k\n",
      " 13 58.4M   13 7918k    0     0  1490k      0  0:00:40  0:00:05  0:00:35 1995k\n",
      " 17 58.4M   17 10.1M    0     0  1652k      0  0:00:36  0:00:06  0:00:30 2099k\n",
      " 19 58.4M   19 11.1M    0     0  1555k      0  0:00:38  0:00:07  0:00:31 2125k\n",
      " 24 58.4M   24 14.3M    0     0  1768k      0  0:00:33  0:00:08  0:00:25 2271k\n",
      " 30 58.4M   30 17.5M    0     0  1929k      0  0:00:31  0:00:09  0:00:22 2452k\n",
      " 33 58.4M   33 19.2M    0     0  1914k      0  0:00:31  0:00:10  0:00:21 2364k\n",
      " 35 58.4M   35 20.7M    0     0  1875k      0  0:00:31  0:00:11  0:00:20 2156k\n",
      " 38 58.4M   38 22.6M    0     0  1882k      0  0:00:31  0:00:12  0:00:19 2359k\n",
      " 41 58.4M   41 24.4M    0     0  1882k      0  0:00:31  0:00:13  0:00:18 2070k\n",
      " 43 58.4M   43 25.6M    0     0  1831k      0  0:00:32  0:00:14  0:00:18 1650k\n",
      " 47 58.4M   47 27.4M    0     0  1836k      0  0:00:32  0:00:15  0:00:17 1675k\n",
      " 48 58.4M   48 28.4M    0     0  1785k      0  0:00:33  0:00:16  0:00:17 1579k\n",
      " 51 58.4M   51 29.9M    0     0  1774k      0  0:00:33  0:00:17  0:00:16 1508k\n",
      " 54 58.4M   54 31.9M    0     0  1787k      0  0:00:33  0:00:18  0:00:15 1535k\n",
      " 56 58.4M   56 32.7M    0     0  1738k      0  0:00:34  0:00:19  0:00:15 1469k\n",
      " 59 58.4M   59 34.8M    0     0  1754k      0  0:00:34  0:00:20  0:00:14 1504k\n",
      " 63 58.4M   63 37.2M    0     0  1787k      0  0:00:33  0:00:21  0:00:12 1797k\n",
      " 65 58.4M   65 38.1M    0     0  1749k      0  0:00:34  0:00:22  0:00:12 1664k\n",
      " 67 58.4M   67 39.4M    0     0  1732k      0  0:00:34  0:00:23  0:00:11 1530k\n",
      " 71 58.4M   71 41.6M    0     0  1753k      0  0:00:34  0:00:24  0:00:10 1810k\n",
      " 72 58.4M   72 42.4M    0     0  1717k      0  0:00:34  0:00:25  0:00:09 1564k\n",
      " 74 58.4M   74 43.6M    0     0  1697k      0  0:00:35  0:00:26  0:00:09 1314k\n",
      " 76 58.4M   76 44.8M    0     0  1681k      0  0:00:35  0:00:27  0:00:08 1379k\n",
      " 79 58.4M   79 46.1M    0     0  1670k      0  0:00:35  0:00:28  0:00:07 1381k\n",
      " 81 58.4M   81 47.8M    0     0  1673k      0  0:00:35  0:00:29  0:00:06 1283k\n",
      " 84 58.4M   84 49.6M    0     0  1676k      0  0:00:35  0:00:30  0:00:05 1472k\n",
      " 87 58.4M   87 50.9M    0     0  1667k      0  0:00:35  0:00:31  0:00:04 1508k\n",
      " 89 58.4M   89 52.4M    0     0  1661k      0  0:00:36  0:00:32  0:00:04 1552k\n",
      " 92 58.4M   92 53.8M    0     0  1656k      0  0:00:36  0:00:33  0:00:03 1578k\n",
      " 94 58.4M   94 54.9M    0     0  1639k      0  0:00:36  0:00:34  0:00:02 1445k\n",
      " 96 58.4M   96 56.6M    0     0  1641k      0  0:00:36  0:00:35  0:00:01 1430k\n",
      " 99 58.4M   99 58.0M    0     0  1637k      0  0:00:36  0:00:36 --:--:-- 1446k\n",
      "100 58.4M  100 58.4M    0     0  1642k      0  0:00:36  0:00:36 --:--:-- 1491k\n",
      "curl: (3) URL rejected: Bad hostname\n",
      "  % Total    % Received % Xferd  Average Speed   Time    Time     Time  Current\n",
      "                                 Dload  Upload   Total   Spent    Left  Speed\n",
      "\n",
      "  0     0    0     0    0     0      0      0 --:--:-- --:--:-- --:--:--     0\n",
      "  0     0    0     0    0     0      0      0 --:--:--  0:00:01 --:--:--     0\n",
      "  0     0    0     0    0     0      0      0 --:--:--  0:00:01 --:--:--     0curl: (6) Could not resolve host: unzip\n",
      "curl: (3) URL rejected: Bad hostname\n",
      "  % Total    % Received % Xferd  Average Speed   Time    Time     Time  Current\n",
      "                                 Dload  Upload   Total   Spent    Left  Speed\n",
      "\n",
      "  0     0    0     0    0     0      0      0 --:--:-- --:--:-- --:--:--     0\n",
      "  0     0    0     0    0     0      0      0 --:--:-- --:--:-- --:--:--     0\n",
      "  0     0    0     0    0     0      0      0 --:--:--  0:00:01 --:--:--     0\n",
      "  0     0    0     0    0     0      0      0 --:--:--  0:00:02 --:--:--     0curl: (6) Could not resolve host: rm\n",
      "  % Total    % Received % Xferd  Average Speed   Time    Time     Time  Current\n",
      "                                 Dload  Upload   Total   Spent    Left  Speed\n",
      "\n",
      "  0     0    0     0    0     0      0      0 --:--:-- --:--:-- --:--:--     0curl: (6) Could not resolve host: roboflow.zip\n"
     ]
    }
   ],
   "source": [
    "# Labeling 된 이미지는 roboflow에서 가져올 수 있음\n",
    "!curl -L \"https://public.roboflow.com/ds/Btipkamriy?key=uflMf4iACn\" > roboflow.zip; unzip roboflow.zip; rm roboflow.zip"
   ]
  },
  {
   "cell_type": "code",
   "execution_count": 8,
   "id": "9a8b1243-93c7-4d74-a590-a0fe7488662a",
   "metadata": {},
   "outputs": [
    {
     "name": "stdout",
     "output_type": "stream",
     "text": [
      "C:\\Users\\KCCISTC\\Desktop\\workspace\n"
     ]
    }
   ],
   "source": [
    "%cd .."
   ]
  },
  {
   "cell_type": "code",
   "execution_count": 12,
   "id": "5ccc8a94-eee4-45cc-a9c1-4c9395843b82",
   "metadata": {},
   "outputs": [
    {
     "name": "stdout",
     "output_type": "stream",
     "text": [
      "[WinError 2] 지정된 파일을 찾을 수 없습니다: 'pistol'\n",
      "C:\\Users\\KCCISTC\\Desktop\\workspace\\pistol\n"
     ]
    },
    {
     "name": "stderr",
     "output_type": "stream",
     "text": [
      "C:\\ProgramData\\anaconda3\\envs\\detect\\lib\\site-packages\\IPython\\core\\magics\\osm.py:393: UserWarning: using bookmarks requires you to install the `pickleshare` library.\n",
      "  bkms = self.shell.db.get('bookmarks', {})\n"
     ]
    }
   ],
   "source": [
    "%cd pistol"
   ]
  },
  {
   "cell_type": "code",
   "execution_count": 14,
   "id": "6cbf0f21-865f-41df-a1a7-c280a20b38af",
   "metadata": {},
   "outputs": [
    {
     "name": "stdout",
     "output_type": "stream",
     "text": [
      "C:\\Users\\KCCISTC\\Desktop\\workspace\n"
     ]
    }
   ],
   "source": [
    "%cd .."
   ]
  },
  {
   "cell_type": "code",
   "execution_count": 15,
   "id": "20037ebc-fc61-4fb3-be92-8613cb62468f",
   "metadata": {},
   "outputs": [
    {
     "name": "stdout",
     "output_type": "stream",
     "text": [
      "C:\\Users\\KCCISTC\\Desktop\\workspace\\yolov5\n"
     ]
    }
   ],
   "source": [
    "%cd yolov5"
   ]
  },
  {
   "cell_type": "code",
   "execution_count": null,
   "id": "b817426c-96bd-4367-98fd-ec822eec40cc",
   "metadata": {},
   "outputs": [],
   "source": [
    "!python classify/train.py --data ../pistol/data.yaml --img 224 --epochs 5 --batch-size 64"
   ]
  },
  {
   "cell_type": "code",
   "execution_count": null,
   "id": "15217426-b491-4d63-9ff2-845a7c61a499",
   "metadata": {},
   "outputs": [],
   "source": [
    "# 이미지를 인터넷에서 자동으로 다운로드 받기\n",
    "# 크롤링(Crawling) 이미지 긁어오기\n",
    "# 스크래핑(정적,html) vs 크롤링(동적, 이동하면서)\n",
    "# ex) 아이유 사진 500장 다운로드 받아주세요 "
   ]
  },
  {
   "cell_type": "code",
   "execution_count": null,
   "id": "57717f08-ab18-4b86-b660-e97304df25dc",
   "metadata": {},
   "outputs": [],
   "source": [
    "!pip install selenium"
   ]
  },
  {
   "cell_type": "code",
   "execution_count": 22,
   "id": "03469250-529a-4b0c-9681-518eaeadc601",
   "metadata": {},
   "outputs": [],
   "source": [
    "from selenium import webdriver as wb\n",
    "from selenium.webdriver.common.by import By\n",
    "from selenium.webdriver.common.keys import Keys"
   ]
  },
  {
   "cell_type": "code",
   "execution_count": 25,
   "id": "cc9827ce-27d1-481a-93af-41f885d28398",
   "metadata": {},
   "outputs": [],
   "source": [
    "url = \"https://www.naver.com\"\n",
    "driver = wb.Chrome()\n",
    "driver.get(url)"
   ]
  },
  {
   "cell_type": "code",
   "execution_count": null,
   "id": "4b5c5d90-325b-4658-83f2-c562825fdd9f",
   "metadata": {},
   "outputs": [],
   "source": [
    "# 해당 태그를 선택하기 위한 방법\n",
    "# 1) id 가 있다면 id를 찾는다 :#id 로 찾음 \n",
    "# > -- why ? id 는 해당 페이지 1개뿐 고유함\n",
    "# 2) class를 찾는다 : .class_name\n",
    "# 3) 태그를 찾는다 : tag\n",
    "\n",
    "# 4) 계층 선택자로 찾는다  "
   ]
  },
  {
   "cell_type": "code",
   "execution_count": 29,
   "id": "586095a5-8ac4-49f0-9d6e-22fd210c7e65",
   "metadata": {},
   "outputs": [],
   "source": [
    "search = driver.find_element(By.CSS_SELECTOR, \"#query\")\n",
    "search.send_keys(\"화곡역 맛집\")\n",
    "search.send_keys(Keys.ENTER)"
   ]
  },
  {
   "cell_type": "code",
   "execution_count": 30,
   "id": "da6a6129-0af6-4c1f-a8eb-6597ead68598",
   "metadata": {},
   "outputs": [],
   "source": [
    "driver.close()"
   ]
  },
  {
   "cell_type": "code",
   "execution_count": 31,
   "id": "3670d721-9833-4451-beac-e0cda78258ca",
   "metadata": {},
   "outputs": [],
   "source": [
    "# 이미지 검색해보기\n",
    "from selenium import webdriver as wb\n",
    "from selenium.webdriver.common.by import By\n",
    "from selenium.webdriver.common.keys import Keys\n",
    "driver = wb.Chrome()\n",
    "url_image = \"https://search.naver.com/search.naver?where=image\"\n",
    "driver.get(url_image)"
   ]
  },
  {
   "cell_type": "code",
   "execution_count": 33,
   "id": "1b0e2ae3-b64e-49b2-a6bb-2426c63430d3",
   "metadata": {},
   "outputs": [],
   "source": [
    "search_img = driver.find_element(By.CSS_SELECTOR,\"#nx_query\")\n",
    "search_img.send_keys(\"아이유\")\n",
    "search_img.send_keys(Keys.ENTER)"
   ]
  },
  {
   "cell_type": "code",
   "execution_count": 38,
   "id": "13231972-730e-4d58-b6e8-31a86e546b78",
   "metadata": {},
   "outputs": [],
   "source": [
    "# img 태그를 전부 가져와서 img_list에 저장\n",
    "img_list = driver.find_elements(By.CSS_SELECTOR,\"img\")\n",
    "# 첫 번째 이미지의 src속성 값을 가져와라 \n",
    "url = img_list[3].get_attribute(\"src\")"
   ]
  },
  {
   "cell_type": "code",
   "execution_count": null,
   "id": "d259bec7-ff90-48c5-a64b-b6da4e2da650",
   "metadata": {},
   "outputs": [],
   "source": [
    "# 해당 url을 통해 get 방식으로 요청\n",
    "# 응답 온 결과를 byte 형태로 받아서 로컬에 저장"
   ]
  },
  {
   "cell_type": "code",
   "execution_count": 40,
   "id": "5b10773d-bc10-4f55-b5f6-58100d8e13bb",
   "metadata": {},
   "outputs": [],
   "source": [
    "import requests\n",
    "response = requests.get(url)\n",
    "# # 응답 결과를 처리하는 3가지 방식\n",
    "# reponse.text : html, xml, 문자열\n",
    "# reponse.content : file, 이미지 \n",
    "# reponse.json() : json , 딕셔너리\n",
    "result = response.content # 이미지를 byte형태로 다루고 있음.\n",
    "with open (\"아이유1.jpg\",\"wb\") as file:\n",
    "    file.write(result)"
   ]
  },
  {
   "cell_type": "code",
   "execution_count": null,
   "id": "76b2dd1c-c156-4e72-890a-a05ea1a1de71",
   "metadata": {},
   "outputs": [],
   "source": [
    "driver.close()"
   ]
  },
  {
   "cell_type": "code",
   "execution_count": 62,
   "id": "8494653c-dba8-4dcf-8303-3d5fd1c7038e",
   "metadata": {},
   "outputs": [],
   "source": [
    "# 연습을 한 번 더하고 PyQT로 실제 프로그램 구성"
   ]
  },
  {
   "cell_type": "code",
   "execution_count": null,
   "id": "905e6f35-d586-48c3-b189-9899459e769d",
   "metadata": {},
   "outputs": [],
   "source": [
    "# 포켓몬 도감 이미지 저장\n",
    "from selenium import webdriver as wb            \n",
    "from selenium.webdriver.common.by import By     \n",
    "from selenium.webdriver.common.keys import Keys  \n",
    "import os        \n",
    "import requests   \n",
    "import time       \n",
    "\n",
    "driver = wb.Chrome()\n",
    "url_pokemon = \"https://pokemonkorea.co.kr/pokedex\"\n",
    "driver.maximize_window() \n",
    "driver.get(url_pokemon)\n",
    "time.sleep(0.2)\n",
    "\n",
    "keyword = \"포켓몬\"\n",
    "if not os.path.exists(keyword):\n",
    "    os.mkdir(keyword)\n",
    "\n",
    "for _ in range(20):\n",
    "    body = driver.find_element(By.CSS_SELECTOR, \"body\")\n",
    "    body.send_keys(Keys.END)\n",
    "    time.sleep(0.2)\n",
    "\n",
    "# 계층 선택자 4개\n",
    "# 자식 선택자 \">\" ex) img 태그에 클래스 이름은 A 그 자식 태그에 a태그 -> img.A>a\n",
    "# 자손 선택자 \" \" ex) a태그에 클래스 이름은 B 그 자손 태그 li 서낵 -> a.B li.\n",
    "# 근접 후행 선택자 \"+\" ex) h1 태그 클래스 이름은 C 그 바로 다음에 오는 h2 태그 선택 -> h1.C+h2\n",
    "# 후행 선택자 \"~\" ex) h3 태그 클래스 이름이 D 일때, 그 다음에 오는 h4 태그 -> h3.D~h4\n",
    "# 외울 필요는 없고 필요할 때 이런게 있다 정도로 알고 있으면 됨.\n",
    "\n",
    "img_list = driver.find_elements(By.CSS_SELECTOR, \"img.img-fluid\") # 태그.클래스이름\n",
    "for i, img in enumerate(img_list):\n",
    "    url = img.get_attribute(\"src\")\n",
    "    if url[ : 4] == \"data\":\n",
    "        continue\n",
    "\n",
    "    result = requests.get(url).content\n",
    "    with open(f\"{keyword}/{keyword}{i}.jpg\", \"wb\") as file:\n",
    "        file.write(result)\n",
    "        print(f\"{keyword}{i}.jpg 저장 완료\")\n",
    "\n",
    "        time.sleep(0.1)\n",
    "        \n",
    "driver.close()"
   ]
  },
  {
   "cell_type": "code",
   "execution_count": null,
   "id": "d017dc25-76fe-4613-ad50-50312862c6f8",
   "metadata": {},
   "outputs": [],
   "source": []
  },
  {
   "cell_type": "code",
   "execution_count": null,
   "id": "0c95d64f-26bc-4fca-b3b0-9bac8586c199",
   "metadata": {},
   "outputs": [],
   "source": []
  },
  {
   "cell_type": "code",
   "execution_count": null,
   "id": "53f47e4b-44bc-4da4-a547-27e32b9d9446",
   "metadata": {},
   "outputs": [],
   "source": [
    "# 사용자가 \"아이유\" 입력하면 500장 출력하는 프로그램 설계\n",
    "  \n",
    "from selenium import webdriver as wb             #인터넷창을 제어하고 url 이동\n",
    "from selenium.webdriver.common.by import By      # 태그나 선택자 확인할 때\n",
    "from selenium.webdriver.common.keys import Keys  # 키보드로 해당 내용을 보낼 때\n",
    "import os                                        # 폴더 만들 때\n",
    "import requests                                  # 이미지 url 통해 byte형태로 받아올 때\n",
    "import time                                      # 페이지 이동 시 코드를 지연시킴.\n",
    "\n",
    "driver = wb.Chrome()\n",
    "url_image = \"https://search.naver.com/search.naver?where=image\"\n",
    "driver.maximize_window() # 간혹 창 크기에 따라 태그가 변하는 경우가 있기 때문에\n",
    "driver.get(url_image)\n",
    "time.sleep(0.2) # 로드되는데 걸리는 시간 대기\n",
    "\n",
    "# 사용자에게 입력하는 문구\n",
    "keyword = input(\"검색어를 입력하세요 : \")\n",
    "# 아이유라는 폴더를 만들기\n",
    "if not os.path.exists(keyword):\n",
    "    os.mkdir(keyword)\n",
    "\n",
    "search = driver.find_element(By.CSS_SELECTOR,\"#nx_query\")\n",
    "search.send_keys(keyword)\n",
    "search.send_keys(Keys.ENTER)\n",
    "time.sleep(0.2)\n",
    "\n",
    "# 현재 화면에서 스크롤을 20번 내리기\n",
    "# 스크롤 내릴때마다 이미지가 추가로 로드 되기 때문에 img_list의 길이가 늘어남\n",
    "for _ in range(20):\n",
    "    body = driver.find_element(By.CSS_SELECTOR,\"body\") #body는 빈공간\n",
    "    body.send_keys(Keys.END)\n",
    "    time.sleep(0.2)\n",
    "\n",
    "img_list = driver.find_elements(By.CSS_SELECTOR,\"img\")\n",
    "for i, img in enumerate(img_list):\n",
    "    url = img.get_attribute(\"src\")\n",
    "    # get 방식은 http, https 로만 요청할 수 있어서\n",
    "    # data:로 출발하는 url은 버리자 (디코딩 작업이 필요함)\n",
    "    if url[:4] == \"data\":\n",
    "        continue\n",
    "\n",
    "    import requests\n",
    "    result = requests.get(url).content\n",
    "    with open(f\"{keyword}/{keyword}{i}.jpg\",\"wb\") as file:\n",
    "        file.write(result)\n",
    "        print(f\"{keyword}{i},jpg  저장완료\")\n",
    "        import time\n",
    "        time.sleep(0.1)\n",
    "driver.close()\n",
    "# 날것의 데이터가 오기 때문에 전처리과정이나 데이터를 걸러내는 과정이 필요하긴함."
   ]
  },
  {
   "cell_type": "code",
   "execution_count": null,
   "id": "180dd2c0-693a-426c-8324-90123504c2cb",
   "metadata": {},
   "outputs": [],
   "source": []
  },
  {
   "cell_type": "code",
   "execution_count": null,
   "id": "f6500b90-5a2e-4090-9957-ef5836a00bbe",
   "metadata": {},
   "outputs": [],
   "source": [
    "#PyQT5 사용해서\n",
    "\n",
    "from selenium import webdriver as wb           \n",
    "from selenium.webdriver.common.by import By      \n",
    "from selenium.webdriver.common.keys import Keys  \n",
    "import os                                        \n",
    "import requests                                  \n",
    "import time                                     \n",
    "\n",
    "def img_download():\n",
    "    driver = wb.Chrome()\n",
    "    url_image = \"https://search.naver.com/search.naver?where=image\"\n",
    "    driver.maximize_window()\n",
    "    driver.get(url_image)\n",
    "    time.sleep(0.2)\n",
    "    \n",
    "    keyword = input(\"검색어를 입력하세요 : \")\n",
    "\n",
    "    if not os.path.exists(keyword):\n",
    "        os.mkdir(keyword)\n",
    "    \n",
    "    search = driver.find_element(By.CSS_SELECTOR,\"#nx_query\")\n",
    "    search.send_keys(keyword)\n",
    "    search.send_keys(Keys.ENTER)\n",
    "    time.sleep(0.2)\n",
    "    \n",
    "    \n",
    "    for _ in range(20):\n",
    "        body = driver.find_element(By.CSS_SELECTOR,\"body\") #body는 빈공간\n",
    "        body.send_keys(Keys.END)\n",
    "        time.sleep(0.2)\n",
    "    \n",
    "    img_list = driver.find_elements(By.CSS_SELECTOR,\"img\")\n",
    "    for i, img in enumerate(img_list):\n",
    "        url = img.get_attribute(\"src\")\n",
    "    \n",
    "        if url[:4] == \"data\":\n",
    "            continue\n",
    "    \n",
    "        import requests\n",
    "        result = requests.get(url).content\n",
    "        with open(f\"{keyword}/{keyword}{i}.jpg\",\"wb\") as file:\n",
    "            file.write(result)\n",
    "            print(f\"{keyword}{i},jpg  저장완료\")\n",
    "            time.sleep(0.1)\n",
    "            \n",
    "    driver.close()\n",
    "    \n",
    "if __name__ == \"__main__\":\n",
    "    img_download()"
   ]
  },
  {
   "cell_type": "code",
   "execution_count": null,
   "id": "5f6885f6-fa67-41f4-8c3e-c4be80e0a3e4",
   "metadata": {},
   "outputs": [],
   "source": [
    "!pip install pyinstaller"
   ]
  },
  {
   "cell_type": "code",
   "execution_count": 1,
   "id": "7cada4e4-c875-4110-822a-030279d993b4",
   "metadata": {},
   "outputs": [
    {
     "name": "stderr",
     "output_type": "stream",
     "text": [
      "24 DEPRECATION: Running PyInstaller as admin is not necessary nor sensible. Run PyInstaller from a non-administrator terminal. PyInstaller 7.0 will block this.\n",
      "269 INFO: PyInstaller: 6.16.0, contrib hooks: 2025.8\n",
      "269 INFO: Python: 3.9.23 (conda)\n",
      "278 INFO: Platform: Windows-10-10.0.26100-SP0\n",
      "278 INFO: Python environment: C:\\ProgramData\\anaconda3\\envs\\detect\n",
      "278 INFO: wrote C:\\Users\\KCCISTC\\Desktop\\workspace\\crawling.spec\n",
      "280 INFO: Module search paths (PYTHONPATH):\n",
      "['C:\\\\ProgramData\\\\anaconda3\\\\envs\\\\detect\\\\Scripts\\\\pyinstaller.exe',\n",
      " 'C:\\\\ProgramData\\\\anaconda3\\\\envs\\\\detect\\\\python39.zip',\n",
      " 'C:\\\\ProgramData\\\\anaconda3\\\\envs\\\\detect\\\\DLLs',\n",
      " 'C:\\\\ProgramData\\\\anaconda3\\\\envs\\\\detect\\\\lib',\n",
      " 'C:\\\\ProgramData\\\\anaconda3\\\\envs\\\\detect',\n",
      " 'C:\\\\ProgramData\\\\anaconda3\\\\envs\\\\detect\\\\lib\\\\site-packages',\n",
      " 'C:\\\\ProgramData\\\\anaconda3\\\\envs\\\\detect\\\\lib\\\\site-packages\\\\win32',\n",
      " 'C:\\\\ProgramData\\\\anaconda3\\\\envs\\\\detect\\\\lib\\\\site-packages\\\\win32\\\\lib',\n",
      " 'C:\\\\ProgramData\\\\anaconda3\\\\envs\\\\detect\\\\lib\\\\site-packages\\\\Pythonwin',\n",
      " 'C:\\\\ProgramData\\\\anaconda3\\\\envs\\\\detect\\\\lib\\\\site-packages\\\\setuptools\\\\_vendor',\n",
      " 'C:\\\\Users\\\\KCCISTC\\\\Desktop\\\\workspace']\n",
      "738 INFO: checking Analysis\n",
      "744 INFO: Building because C:\\Users\\KCCISTC\\Desktop\\workspace\\crawling.py changed\n",
      "744 INFO: Looking for Python shared library...\n",
      "744 INFO: Using Python shared library: C:\\ProgramData\\anaconda3\\envs\\detect\\python39.dll\n",
      "744 INFO: Running Analysis Analysis-00.toc\n",
      "744 INFO: Target bytecode optimization level: 0\n",
      "744 INFO: Initializing module dependency graph...\n",
      "745 INFO: Initializing module graph hook caches...\n",
      "762 INFO: Analyzing modules for base_library.zip ...\n",
      "1681 INFO: Processing standard module hook 'hook-encodings.py' from 'C:\\\\ProgramData\\\\anaconda3\\\\envs\\\\detect\\\\lib\\\\site-packages\\\\PyInstaller\\\\hooks'\n",
      "2610 INFO: Processing standard module hook 'hook-pickle.py' from 'C:\\\\ProgramData\\\\anaconda3\\\\envs\\\\detect\\\\lib\\\\site-packages\\\\PyInstaller\\\\hooks'\n",
      "3209 INFO: Processing standard module hook 'hook-heapq.py' from 'C:\\\\ProgramData\\\\anaconda3\\\\envs\\\\detect\\\\lib\\\\site-packages\\\\PyInstaller\\\\hooks'\n",
      "3403 INFO: Caching module dependency graph...\n",
      "3440 INFO: Analyzing C:\\Users\\KCCISTC\\Desktop\\workspace\\crawling.py\n",
      "3443 INFO: Processing standard module hook 'hook-selenium.py' from 'C:\\\\ProgramData\\\\anaconda3\\\\envs\\\\detect\\\\lib\\\\site-packages\\\\_pyinstaller_hooks_contrib\\\\stdhooks'\n",
      "3682 INFO: Processing standard module hook 'hook-platform.py' from 'C:\\\\ProgramData\\\\anaconda3\\\\envs\\\\detect\\\\lib\\\\site-packages\\\\PyInstaller\\\\hooks'\n",
      "3861 INFO: Processing standard module hook 'hook-certifi.py' from 'C:\\\\ProgramData\\\\anaconda3\\\\envs\\\\detect\\\\lib\\\\site-packages\\\\_pyinstaller_hooks_contrib\\\\stdhooks'\n",
      "3880 INFO: Processing standard module hook 'hook-urllib3.py' from 'C:\\\\ProgramData\\\\anaconda3\\\\envs\\\\detect\\\\lib\\\\site-packages\\\\_pyinstaller_hooks_contrib\\\\stdhooks'\n",
      "3965 INFO: Processing pre-safe-import-module hook 'hook-typing_extensions.py' from 'C:\\\\ProgramData\\\\anaconda3\\\\envs\\\\detect\\\\lib\\\\site-packages\\\\PyInstaller\\\\hooks\\\\pre_safe_import_module'\n",
      "3966 INFO: SetuptoolsInfo: initializing cached setuptools info...\n",
      "7404 INFO: Processing standard module hook 'hook-multiprocessing.util.py' from 'C:\\\\ProgramData\\\\anaconda3\\\\envs\\\\detect\\\\lib\\\\site-packages\\\\PyInstaller\\\\hooks'\n",
      "7449 INFO: Processing standard module hook 'hook-xml.py' from 'C:\\\\ProgramData\\\\anaconda3\\\\envs\\\\detect\\\\lib\\\\site-packages\\\\PyInstaller\\\\hooks'\n",
      "7599 INFO: Processing standard module hook 'hook-_ctypes.py' from 'C:\\\\ProgramData\\\\anaconda3\\\\envs\\\\detect\\\\lib\\\\site-packages\\\\PyInstaller\\\\hooks'\n",
      "8131 INFO: Processing standard module hook 'hook-sysconfig.py' from 'C:\\\\ProgramData\\\\anaconda3\\\\envs\\\\detect\\\\lib\\\\site-packages\\\\PyInstaller\\\\hooks'\n",
      "8349 INFO: Processing standard module hook 'hook-xml.dom.domreg.py' from 'C:\\\\ProgramData\\\\anaconda3\\\\envs\\\\detect\\\\lib\\\\site-packages\\\\PyInstaller\\\\hooks'\n",
      "8475 INFO: Processing standard module hook 'hook-charset_normalizer.py' from 'C:\\\\ProgramData\\\\anaconda3\\\\envs\\\\detect\\\\lib\\\\site-packages\\\\_pyinstaller_hooks_contrib\\\\stdhooks'\n",
      "8609 INFO: Processing module hooks (post-graph stage)...\n",
      "8616 INFO: Performing binary vs. data reclassification (15 entries)\n",
      "8618 INFO: Looking for ctypes DLLs\n",
      "8621 INFO: Analyzing run-time hooks ...\n",
      "8623 INFO: Including run-time hook 'pyi_rth_pkgutil.py' from 'C:\\\\ProgramData\\\\anaconda3\\\\envs\\\\detect\\\\lib\\\\site-packages\\\\PyInstaller\\\\hooks\\\\rthooks'\n",
      "8624 INFO: Including run-time hook 'pyi_rth_multiprocessing.py' from 'C:\\\\ProgramData\\\\anaconda3\\\\envs\\\\detect\\\\lib\\\\site-packages\\\\PyInstaller\\\\hooks\\\\rthooks'\n",
      "8625 INFO: Including run-time hook 'pyi_rth_inspect.py' from 'C:\\\\ProgramData\\\\anaconda3\\\\envs\\\\detect\\\\lib\\\\site-packages\\\\PyInstaller\\\\hooks\\\\rthooks'\n",
      "8631 INFO: Creating base_library.zip...\n",
      "8649 INFO: Looking for dynamic libraries\n",
      "8913 INFO: Extra DLL search directories (AddDllDirectory): []\n",
      "8913 INFO: Extra DLL search directories (PATH): []\n",
      "9326 INFO: Warnings written to C:\\Users\\KCCISTC\\Desktop\\workspace\\build\\crawling\\warn-crawling.txt\n",
      "9369 INFO: Graph cross-reference written to C:\\Users\\KCCISTC\\Desktop\\workspace\\build\\crawling\\xref-crawling.html\n",
      "9384 INFO: checking PYZ\n",
      "9397 INFO: checking PKG\n",
      "9398 INFO: Building because toc changed\n",
      "9398 INFO: Building PKG (CArchive) crawling.pkg\n",
      "12758 INFO: Building PKG (CArchive) crawling.pkg completed successfully.\n",
      "12761 INFO: Bootloader C:\\ProgramData\\anaconda3\\envs\\detect\\lib\\site-packages\\PyInstaller\\bootloader\\Windows-64bit-intel\\run.exe\n",
      "12761 INFO: checking EXE\n",
      "12762 INFO: Building because toc changed\n",
      "12762 INFO: Building EXE from EXE-00.toc\n",
      "12764 INFO: Copying bootloader EXE to C:\\Users\\KCCISTC\\Desktop\\workspace\\dist\\crawling.exe\n",
      "12767 INFO: Copying icon to EXE\n",
      "12769 INFO: Copying 0 resources to EXE\n",
      "12769 INFO: Embedding manifest in EXE\n",
      "12771 INFO: Appending PKG archive to EXE\n",
      "12782 INFO: Fixing EXE headers\n",
      "12930 INFO: Building EXE from EXE-00.toc completed successfully.\n",
      "12933 INFO: Build complete! The results are available in: C:\\Users\\KCCISTC\\Desktop\\workspace\\dist\n"
     ]
    }
   ],
   "source": [
    "!pyinstaller --onefile crawling.py"
   ]
  },
  {
   "cell_type": "code",
   "execution_count": null,
   "id": "0922215c-8747-4f61-97c9-bfb3d174b568",
   "metadata": {},
   "outputs": [],
   "source": []
  },
  {
   "cell_type": "code",
   "execution_count": null,
   "id": "c60a0a6e-8b97-4c71-b84e-39bf63c1bce8",
   "metadata": {},
   "outputs": [],
   "source": []
  },
  {
   "cell_type": "code",
   "execution_count": null,
   "id": "2cdb882f-6375-4ff9-9bf1-0e34fedaafe1",
   "metadata": {},
   "outputs": [],
   "source": []
  }
 ],
 "metadata": {
  "kernelspec": {
   "display_name": "Python 3 (ipykernel)",
   "language": "python",
   "name": "python3"
  },
  "language_info": {
   "codemirror_mode": {
    "name": "ipython",
    "version": 3
   },
   "file_extension": ".py",
   "mimetype": "text/x-python",
   "name": "python",
   "nbconvert_exporter": "python",
   "pygments_lexer": "ipython3",
   "version": "3.9.23"
  }
 },
 "nbformat": 4,
 "nbformat_minor": 5
}
